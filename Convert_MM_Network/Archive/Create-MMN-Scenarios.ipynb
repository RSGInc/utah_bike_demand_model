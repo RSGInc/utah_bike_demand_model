{
 "cells": [
  {
   "cell_type": "markdown",
   "metadata": {},
   "source": [
    "# Notes\n",
    "- this worked well for the planned network additions\n",
    "- did not work for the beehive bikeways because they weren't snapped to the MMN"
   ]
  },
  {
   "cell_type": "code",
   "execution_count": 1,
   "metadata": {},
   "outputs": [],
   "source": [
    "import arcpy\n",
    "from arcpy import env\n",
    "import os\n",
    "import numpy as np\n",
    "from arcgis import GIS\n",
    "from arcgis.features import GeoAccessor\n",
    "from arcgis.features import GeoSeriesAccessor\n",
    "import pandas as pd\n",
    "\n",
    "arcpy.env.overwriteOutput = True\n",
    "arcpy.env.parallelProcessingFactor = \"90%\"\n",
    "\n",
    "# show all columns\n",
    "pd.options.display.max_columns = None\n",
    "\n",
    "# pd.pivot_table(df, values='a', index='b', columns='c', aggfunc='sum', fill_value=0)\n",
    "# pd.DataFrame.spatial.from_featureclass(???)  \n",
    "# df.spatial.to_featureclass(location=???,sanitize_columns=False)  \n",
    "\n",
    "# gsa = arcgis.features.GeoSeriesAccessor(df['SHAPE'])  \n",
    "# df['AREA'] = gsa.area  # KNOW YOUR UNITS"
   ]
  },
  {
   "cell_type": "code",
   "execution_count": 2,
   "metadata": {},
   "outputs": [],
   "source": [
    "# # fill NA values in Spatially enabled dataframes (ignores SHAPE column)\n",
    "# def fill_na_sedf(df_with_shape_column, fill_value=0):\n",
    "#     if 'SHAPE' in list(df_with_shape_column.columns):\n",
    "#         df = df_with_shape_column.copy()\n",
    "#         shape_column = df['SHAPE'].copy()\n",
    "#         del df['SHAPE']\n",
    "#         return df.fillna(fill_value).merge(shape_column,left_index=True, right_index=True, how='inner')\n",
    "#     else:\n",
    "#         raise Exception(\"Dataframe does not include 'SHAPE' column\")"
   ]
  },
  {
   "cell_type": "markdown",
   "metadata": {},
   "source": [
    "# Setup Outputs directories"
   ]
  },
  {
   "cell_type": "code",
   "execution_count": 2,
   "metadata": {},
   "outputs": [],
   "source": [
    "if not os.path.exists('Outputs'):\n",
    "    os.makedirs('Outputs')\n",
    "    \n",
    "outputs = ['.\\\\Outputs', \"bb.gdb\", 'planned.gdb', 'bb_planned.gdb', 'mmn_beehive_modeling.gdb']\n",
    "gdb = os.path.join(outputs[0], outputs[1])\n",
    "gdb2 = os.path.join(outputs[0], outputs[2])\n",
    "gdb3 = os.path.join(outputs[0], outputs[3])\n",
    "gdb4 = os.path.join(outputs[0], outputs[4])\n",
    "\n",
    "\n",
    "if not arcpy.Exists(gdb):\n",
    "    arcpy.CreateFileGDB_management(outputs[0], outputs[1])\n",
    "\n",
    "if not arcpy.Exists(gdb2):\n",
    "    arcpy.CreateFileGDB_management(outputs[0], outputs[2])\n",
    "\n",
    "if not arcpy.Exists(gdb3):\n",
    "    arcpy.CreateFileGDB_management(outputs[0], outputs[3])\n",
    "\n",
    "if not arcpy.Exists(gdb4):\n",
    "    arcpy.CreateFileGDB_management(outputs[0], outputs[4])\n"
   ]
  },
  {
   "cell_type": "markdown",
   "metadata": {},
   "source": [
    "## Add BB to MMN"
   ]
  },
  {
   "cell_type": "code",
   "execution_count": 4,
   "metadata": {},
   "outputs": [],
   "source": [
    "mmn = r'E:\\Tasks\\Bike_Modeling_Data_Update\\MM_NetworkDataset_08132024.gdb\\NetworkDataset\\BikePedAuto'\n",
    "beehive_bikeways = r'E:\\Tasks\\Bike_Modeling_Data_Update\\Beehive_Bikeways_20230822.shp'\n",
    "above_grade_intersections = r'.\\Inputs\\Above_Grade_Intersections.shp'\n",
    "\n",
    "# create a working version of the MMN and add unique ID\n",
    "mmn_copy = arcpy.management.CopyFeatures(mmn, os.path.join(gdb, '_00_mmn_copy'))\n",
    "mmn_lyr = arcpy.management.MakeFeatureLayer(mmn_copy, \"mmn_lyr\")\n",
    "\n",
    "\n",
    "# select highways that cross BB at-grade\n",
    "arcpy.SelectLayerByLocation_management(mmn_lyr, 'INTERSECT', above_grade_intersections, selection_type='NEW_SELECTION')\n",
    "arcpy.SelectLayerByAttribute_management(mmn_lyr, \"SWITCH_SELECTION\")\n",
    "\n",
    "# split the BB layer at same junctions as MMN\n",
    "mmn_vertices = arcpy.management.FeatureVerticesToPoints(mmn_lyr, os.path.join(gdb, '_02_mmn_vertices'), \"BOTH_ENDS\")\n",
    "bb_split = arcpy.management.SplitLineAtPoint(beehive_bikeways, mmn_vertices, os.path.join(gdb, '_03_bb_split'), \"10 Feet\")\n",
    "arcpy.CalculateGeometryAttributes_management(os.path.realpath(bb_split[0]), [['Length_Miles','LENGTH_GEODESIC']],  length_unit='MILES_US')\n",
    "arcpy.AddField_management(bb_split, field_name='SPLIT_ID', field_type='LONG')\n",
    "arcpy.CalculateField_management(bb_split,\"SPLIT_ID\",'!{}!'.format('OBJECTID'))\n",
    "bb_split_df = pd.DataFrame.spatial.from_featureclass(bb_split[0])"
   ]
  },
  {
   "cell_type": "code",
   "execution_count": 5,
   "metadata": {},
   "outputs": [
    {
     "name": "stdout",
     "output_type": "stream",
     "text": [
      "177178\n",
      "2761\n"
     ]
    },
    {
     "data": {
      "text/plain": [
       "'e:\\\\Tasks\\\\Bike_Modeling_Data_Update\\\\Processing\\\\Outputs\\\\mmn_beehive_modeling.gdb\\\\mmn_with_beehive_bikeways'"
      ]
     },
     "execution_count": 5,
     "metadata": {},
     "output_type": "execute_result"
    }
   ],
   "source": [
    "# select and buffer bikeways\n",
    "bb_split_buffered = arcpy.analysis.Buffer(bb_split, os.path.join(gdb, '_04_bb_buffer'), \"10 Feet\", \"FULL\", \"ROUND\", None, None, \"GEODESIC\")\n",
    "bb_buffered_dissolved = arcpy.analysis.Buffer(beehive_bikeways, os.path.join(gdb, '_05_bb_buffer_dissolved'), \"10 Feet\", \"FULL\", \"ROUND\", 'ALL', None, \"GEODESIC\")\n",
    "\n",
    "# select MMN links that are within the BB buffer, delete\n",
    "mmn_lyr = arcpy.management.MakeFeatureLayer(mmn_copy, \"mmn_lyr2\")\n",
    "print(arcpy.management.GetCount(mmn_lyr))\n",
    "arcpy.management.SelectLayerByLocation(\n",
    "    in_layer=mmn_lyr,\n",
    "    overlap_type=\"WITHIN\",\n",
    "    select_features=bb_buffered_dissolved,\n",
    "    search_distance=None,\n",
    "    selection_type=\"NEW_SELECTION\",\n",
    "    invert_spatial_relationship=\"NOT_INVERT\"\n",
    ")\n",
    "print(arcpy.management.GetCount(mmn_lyr))\n",
    "arcpy.management.CopyFeatures(mmn_lyr, os.path.join(gdb, '_05_mmn_deleted'))\n",
    "mmn_lyr_df = pd.DataFrame.spatial.from_featureclass(mmn_lyr[0])\n",
    "\n",
    "\n",
    "\n",
    "# spatial join buffered bb links to overlapping mmn links, read into df\n",
    "fieldmappings = arcpy.FieldMappings()\n",
    "fieldmappings.addTable(bb_split_buffered)\n",
    "fieldmappings.addTable(mmn_copy)\n",
    "\n",
    "mmn_columns = ['Name', 'Oneway', 'Speed', 'AutoNetwork', 'BikeNetwork',\n",
    "       'PedNetwork', 'SourceData', 'DriveTime', 'BikeTime', 'PedestrianTime',\n",
    "       'Length_Miles', 'ConnectorNetwork', 'CartoCode', 'AADT', 'AADT_YR',\n",
    "       'BIKE_L', 'BIKE_R', 'VERT_LEVEL']\n",
    "\n",
    "for col in mmn_columns:\n",
    "    fieldindex = fieldmappings.findFieldMapIndex(col)\n",
    "    fieldmap = fieldmappings.getFieldMap(fieldindex)\n",
    "    fieldmap.mergeRule = 'First'\n",
    "    fieldmappings.replaceFieldMap(fieldindex, fieldmap)\n",
    "\n",
    "bb_mmn_sj = arcpy.SpatialJoin_analysis(bb_split_buffered, mmn_lyr, os.path.join(gdb, '_06_mmn_non_pp_join_with_bb'),'JOIN_ONE_TO_MANY', \"KEEP_ALL\", fieldmappings, 'CONTAINS') # OR WITHIN\n",
    "\n",
    "arcpy.SelectLayerByAttribute_management(mmn_lyr, \"SWITCH_SELECTION\")\n",
    "mmn_removed =arcpy.management.CopyFeatures(mmn_lyr, os.path.join(gdb, '_07_mmn_remaining'))\n",
    "arcpy.CalculateGeometryAttributes_management(os.path.realpath(mmn_removed[0]), [['Length_Miles','LENGTH_GEODESIC']],  length_unit='MILES_US')\n",
    "\n",
    "# read spatial join result into pandas and update bike feature attributes\n",
    "bb_mmn_sj_df = pd.DataFrame.spatial.from_featureclass(bb_mmn_sj[0])\n",
    "bb_mmn_sj_df['BIKE_L'] = bb_mmn_sj_df['TypeCode']\n",
    "bb_mmn_sj_df['BIKE_R'] = bb_mmn_sj_df['TypeCode']\n",
    "bb_mmn_sj_df['BB'] = pd.Series(dtype='int8')\n",
    "bb_mmn_sj_df['BB'] = \"1\"\n",
    "\n",
    "\n",
    "# join sj features to original overlapping mmn links\n",
    "new_mmn_links = bb_split_df[['SPLIT_ID' ,'SHAPE']].merge(bb_mmn_sj_df.drop('SHAPE', axis=1), on='SPLIT_ID', how='left') # need original mmn attributes + 'TypeCode' aka new bike infrastructure\n",
    "new_mmn_links = new_mmn_links[mmn_columns + ['BB','SHAPE']]\n",
    "new_mmn_links.spatial.to_featureclass(location=os.path.join(gdb, '_08_new_mmn_features'),sanitize_columns=False)  # merge these after schema formatting\n",
    "\n",
    "# merge MMN (with deleted links) with new links (with)\n",
    "mmn_df = pd.DataFrame.spatial.from_featureclass(mmn_removed[0])\n",
    "mmn_df_with_new_links = pd.concat([mmn_df, new_mmn_links])\n",
    "mmn_df_with_new_links = mmn_df_with_new_links.reset_index().drop(['index','OBJECTID'], axis=1)\n",
    "\n",
    "mmn_df_with_new_links.loc[mmn_df_with_new_links['Speed'].isna() == False, 'DriveTime'] = (mmn_df_with_new_links['Length_Miles'] / mmn_df_with_new_links['Speed']) * 60\n",
    "mmn_df_with_new_links.loc[mmn_df_with_new_links['Length_Miles'].isna() == False, 'PedestrianTime'] = (mmn_df_with_new_links['Length_Miles'] / 3.1) * 60\n",
    "mmn_df_with_new_links.loc[mmn_df_with_new_links['Length_Miles'].isna() == False, 'BikeTime'] = (mmn_df_with_new_links['Length_Miles'] / 9.6) * 60\n",
    "mmn_df_with_new_links.loc[(mmn_df_with_new_links['BIKE_L'].isna() == False) | \n",
    "                          (mmn_df_with_new_links['BIKE_R'].isna() != False) | \n",
    "                          (mmn_df_with_new_links['CartoCode'] == '11 Other Local, Neighborhood, Rural Roads'), \n",
    "                          'BikeTime'] = mmn_df_with_new_links['Length_Miles'] / 11 * 60\n",
    "\n",
    "\n",
    "final_mmn = os.path.join(gdb, '_09_mmn_with_beehive_bikeways')\n",
    "mmn_df_with_new_links.spatial.to_featureclass(location=final_mmn,sanitize_columns=False)\n",
    "mmn_df_with_new_links.spatial.to_featureclass(location=os.path.join(gdb4, 'mmn_with_beehive_bikeways'),sanitize_columns=False)"
   ]
  },
  {
   "cell_type": "markdown",
   "metadata": {},
   "source": [
    "# Add Planned Features to MMN"
   ]
  },
  {
   "cell_type": "code",
   "execution_count": 3,
   "metadata": {},
   "outputs": [
    {
     "name": "stderr",
     "output_type": "stream",
     "text": [
      "C:\\Users\\jreynolds\\AppData\\Local\\Temp\\ipykernel_27676\\2329096483.py:21: FutureWarning: Setting an item of incompatible dtype is deprecated and will raise in a future error of pandas. Value 'N' has dtype incompatible with float64, please explicitly cast to a compatible dtype first.\n",
      "  roads_trails_df.loc[roads_trails_df['MERGE_SRC'] == 'trails_lyr', 'AutoNetork'] = 'N'\n",
      "C:\\Users\\jreynolds\\AppData\\Local\\Temp\\ipykernel_27676\\2329096483.py:37: FutureWarning: Setting an item of incompatible dtype is deprecated and will raise in a future error of pandas. Value 'RoadCenterlines' has dtype incompatible with float64, please explicitly cast to a compatible dtype first.\n",
      "  roads_trails_df.loc[roads_trails_df['MERGE_SRC'] == 'roads_lyr', 'SourceData'] = 'RoadCenterlines'\n"
     ]
    },
    {
     "data": {
      "text/plain": [
       "'e:\\\\Tasks\\\\Bike_Modeling_Data_Update\\\\Processing\\\\Outputs\\\\planned.gdb\\\\_01_planned_features'"
      ]
     },
     "execution_count": 3,
     "metadata": {},
     "output_type": "execute_result"
    }
   ],
   "source": [
    "# roads\n",
    "roads = r\"E:\\Tasks\\Bike_Modeling_Data_Update\\sgid_roads_09022024.gdb\\Roads\"\n",
    "q1 = '''(BIKE_PLN_L IN ('1', '1B', '1C', '1D', '2A', '2B', '3', '3A', '3B', '3C', 'PP')) or (BIKE_PLN_R IN ('1', '1B', '1C', '1D', '2A', '2B', '3', '3A', '3B', '3C', 'PP'))'''\n",
    "roads_lyr = arcpy.MakeFeatureLayer_management(roads, 'roads_lyr', where_clause=q1)\n",
    "\n",
    "#trails (some of these are in BB)\n",
    "trails = r\"E:\\Tasks\\Bike_Modeling_Data_Update\\Trails.shp\"\n",
    "q2 = \"\"\"status IN ('Future', 'PROPOSED')\"\"\"\n",
    "trails_lyr = arcpy.MakeFeatureLayer_management(trails, 'trails_lyr', where_clause=q2)\n",
    "\n",
    "roads_trails = arcpy.Merge_management([roads_lyr, trails_lyr], os.path.join(gdb2, '_00_roads_trails'),add_source='ADD_SOURCE_INFO')\n",
    "arcpy.CalculateGeometryAttributes_management(os.path.realpath(roads_trails[0]), [['Length_Miles','LENGTH_GEODESIC']],  length_unit='MILES_US')\n",
    "roads_trails_df = pd.DataFrame.spatial.from_featureclass(roads_trails[0])[['FULLNAME' ,'CARTOCODE', 'ONEWAY', 'SPEED_LMT', 'BIKE_PLN_L', 'BIKE_PLN_R', 'MERGE_SRC', 'DOT_AADT', 'VERT_LEVEL', 'Length_Miles','SHAPE']]\n",
    "\n",
    "roads_trails_df['Speed'] = roads_trails_df['SPEED_LMT']\n",
    "roads_trails_df['ConnectorNetwork'] = 'N'\n",
    "\n",
    "roads_trails_df['PedNetwork'] = 'Y'\n",
    "roads_trails_df['BikeNetwork'] = 'Y'\n",
    "roads_trails_df['AutoNetwork'] = 'Y'\n",
    "roads_trails_df.loc[roads_trails_df['MERGE_SRC'] == 'trails_lyr', 'AutoNetork'] = 'N'\n",
    "\n",
    "roads_trails_df['Name'] = roads_trails_df['FULLNAME']\n",
    "roads_trails_df['Oneway'] = roads_trails_df['ONEWAY']\n",
    "roads_trails_df['CartoCode'] = roads_trails_df['CARTOCODE']\n",
    "roads_trails_df['AADT'] = roads_trails_df['DOT_AADT']\n",
    "\n",
    "roads_trails_df['BIKE_L'] = roads_trails_df['BIKE_PLN_L']\n",
    "roads_trails_df['BIKE_R'] = roads_trails_df['BIKE_PLN_R']\n",
    "\n",
    "roads_trails_df['PLANNED'] = \"1\"\n",
    "\n",
    "roads_trails_df.loc[roads_trails_df['Speed'].isna() == False, 'DriveTime'] = (roads_trails_df['Length_Miles'] / roads_trails_df['Speed']) * 60\n",
    "roads_trails_df.loc[roads_trails_df['Length_Miles'].isna() == False, 'PedestrianTime'] = (roads_trails_df['Length_Miles'] / 3.1) * 60\n",
    "roads_trails_df.loc[roads_trails_df['Length_Miles'].isna() == False, 'BikeTime'] = (roads_trails_df['Length_Miles'] / 9.6) * 60\n",
    "\n",
    "roads_trails_df.loc[roads_trails_df['MERGE_SRC'] == 'roads_lyr', 'SourceData'] = 'RoadCenterlines'\n",
    "roads_trails_df.loc[roads_trails_df['MERGE_SRC'] == 'trails_lyr', 'SourceData'] = 'Trails'\n",
    "\n",
    "roads_trails_df = roads_trails_df[['Name','Oneway','Speed','AutoNetwork', 'BikeNetwork','PedNetwork','SourceData','DriveTime','PedestrianTime','BikeTime', 'Length_Miles','ConnectorNetwork','CartoCode','AADT','BIKE_L','BIKE_R', 'VERT_LEVEL', 'PLANNED', 'SHAPE']]\n",
    "\n",
    "planned_features = os.path.join(gdb2, '_01_planned_features')\n",
    "roads_trails_df.spatial.to_featureclass(location=planned_features,sanitize_columns=False)"
   ]
  },
  {
   "cell_type": "code",
   "execution_count": 4,
   "metadata": {},
   "outputs": [
    {
     "name": "stdout",
     "output_type": "stream",
     "text": [
      "177178\n",
      "17318\n"
     ]
    },
    {
     "data": {
      "text/html": [
       "<div class='gpresult'><h2>Messages</h2><div id='messages'>Start Time: Wednesday, September 4, 2024 1:47:03 PM<br>Succeeded at Wednesday, September 4, 2024 1:47:11 PM (Elapsed Time: 7.45 seconds)<br></div><div id = 'default' /></div></div>"
      ],
      "text/plain": [
       "<Result '.\\\\Outputs\\\\mmn_beehive_modeling.gdb\\\\mmn_with_planned_features'>"
      ]
     },
     "execution_count": 4,
     "metadata": {},
     "output_type": "execute_result"
    }
   ],
   "source": [
    "# create a working version of the MMN and add unique ID\n",
    "mmn = r'E:\\Tasks\\Bike_Modeling_Data_Update\\MM_NetworkDataset_08132024.gdb\\NetworkDataset\\BikePedAuto'\n",
    "mmn_copy = arcpy.management.CopyFeatures(mmn, os.path.join(gdb2, '_02_mmn_copy'))\n",
    "mmn_lyr = arcpy.management.MakeFeatureLayer(mmn_copy, \"mmn_lyr\")\n",
    "\n",
    "# select and buffer bikeways\n",
    "planned_buffered = arcpy.analysis.Buffer(planned_features, os.path.join(gdb2, '_03_planned_buffer'), \"10 Feet\", \"FULL\", \"ROUND\", None, None, \"GEODESIC\")\n",
    "planned_buffered_dissolved = arcpy.analysis.Buffer(planned_features, os.path.join(gdb2, '_04_planned_buffer_dissolved'), \"10 Feet\", \"FULL\", \"ROUND\", 'ALL', None, \"GEODESIC\")\n",
    "\n",
    "# select MMN links that are within the Planned buffer, delete\n",
    "mmn_lyr = arcpy.management.MakeFeatureLayer(mmn_copy, \"mmn_lyr2\")\n",
    "print(arcpy.management.GetCount(mmn_lyr))\n",
    "# arcpy.management.SelectLayerByLocation(mmn_lyr, 'WITHIN', bb_buffered, selection_type='NEW_SELECTION')\n",
    "arcpy.management.SelectLayerByLocation(\n",
    "    in_layer=mmn_lyr,\n",
    "    overlap_type=\"WITHIN\",\n",
    "    select_features=planned_buffered_dissolved,\n",
    "    search_distance=None,\n",
    "    selection_type=\"NEW_SELECTION\",\n",
    "    invert_spatial_relationship=\"NOT_INVERT\"\n",
    ")\n",
    "print(arcpy.management.GetCount(mmn_lyr))\n",
    "arcpy.management.CopyFeatures(mmn_lyr, os.path.join(gdb2, '_04_mmn_deleted'))\n",
    "# mmn_lyr_df = pd.DataFrame.spatial.from_featureclass(mmn_lyr[0])\n",
    "\n",
    "arcpy.SelectLayerByAttribute_management(mmn_lyr, \"SWITCH_SELECTION\")\n",
    "mmn_removed =arcpy.management.CopyFeatures(mmn_lyr, os.path.join(gdb2, '_05_mmn_remaining'))\n",
    "\n",
    "mmn_with_planned_features = arcpy.Merge_management([mmn_removed, planned_features], os.path.join(gdb2, '_06_mmn_with_planned_features'))\n",
    "arcpy.Merge_management([mmn_removed, planned_features], os.path.join(gdb4, 'mmn_with_planned_features'))"
   ]
  },
  {
   "cell_type": "markdown",
   "metadata": {},
   "source": [
    "# Add BB and Planned to MMN"
   ]
  },
  {
   "cell_type": "code",
   "execution_count": 5,
   "metadata": {},
   "outputs": [],
   "source": [
    "mmn = mmn_with_planned_features\n",
    "beehive_bikeways = r'E:\\Tasks\\Bike_Modeling_Data_Update\\Beehive_Bikeways_20230822.shp'\n",
    "above_grade_intersections = r'.\\Inputs\\Above_Grade_Intersections.shp'\n",
    "\n",
    "# create a working version of the MMN and add unique ID\n",
    "mmn_copy = arcpy.management.CopyFeatures(mmn, os.path.join(gdb3, '_00_mmn_copy'))\n",
    "mmn_lyr = arcpy.management.MakeFeatureLayer(mmn_copy, \"mmn_lyr\")\n",
    "\n",
    "\n",
    "# select highways that cross BB at-grade\n",
    "arcpy.SelectLayerByLocation_management(mmn_lyr, 'INTERSECT', above_grade_intersections, selection_type='NEW_SELECTION')\n",
    "arcpy.SelectLayerByAttribute_management(mmn_lyr, \"SWITCH_SELECTION\")\n",
    "\n",
    "# split the BB layer at same junctions as MMN\n",
    "mmn_vertices = arcpy.management.FeatureVerticesToPoints(mmn_lyr, os.path.join(gdb3, '_02_mmn_vertices'), \"BOTH_ENDS\")\n",
    "bb_split = arcpy.management.SplitLineAtPoint(beehive_bikeways, mmn_vertices, os.path.join(gdb3, '_03_bb_split'), \"10 Feet\")\n",
    "arcpy.CalculateGeometryAttributes_management(os.path.realpath(bb_split[0]), [['Length_Miles','LENGTH_GEODESIC']],  length_unit='MILES_US')\n",
    "arcpy.AddField_management(bb_split, field_name='SPLIT_ID', field_type='LONG')\n",
    "arcpy.CalculateField_management(bb_split,\"SPLIT_ID\",'!{}!'.format('OBJECTID'))\n",
    "bb_split_df = pd.DataFrame.spatial.from_featureclass(bb_split[0])"
   ]
  },
  {
   "cell_type": "code",
   "execution_count": 6,
   "metadata": {},
   "outputs": [
    {
     "name": "stdout",
     "output_type": "stream",
     "text": [
      "176891\n",
      "2633\n"
     ]
    },
    {
     "name": "stderr",
     "output_type": "stream",
     "text": [
      "c:\\Users\\jreynolds\\AppData\\Local\\ESRI\\conda\\envs\\arcgispro-py3-clone\\Lib\\site-packages\\pandas\\core\\dtypes\\cast.py:1056: RuntimeWarning: invalid value encountered in cast\n",
      "  if (arr.astype(int) == arr).all():\n",
      "c:\\Users\\jreynolds\\AppData\\Local\\ESRI\\conda\\envs\\arcgispro-py3-clone\\Lib\\site-packages\\pandas\\core\\dtypes\\cast.py:1080: RuntimeWarning: invalid value encountered in cast\n",
      "  if (arr.astype(int) == arr).all():\n",
      "c:\\Users\\jreynolds\\AppData\\Local\\ESRI\\conda\\envs\\arcgispro-py3-clone\\Lib\\site-packages\\pandas\\core\\dtypes\\cast.py:1056: RuntimeWarning: invalid value encountered in cast\n",
      "  if (arr.astype(int) == arr).all():\n",
      "c:\\Users\\jreynolds\\AppData\\Local\\ESRI\\conda\\envs\\arcgispro-py3-clone\\Lib\\site-packages\\pandas\\core\\dtypes\\cast.py:1080: RuntimeWarning: invalid value encountered in cast\n",
      "  if (arr.astype(int) == arr).all():\n",
      "c:\\Users\\jreynolds\\AppData\\Local\\ESRI\\conda\\envs\\arcgispro-py3-clone\\Lib\\site-packages\\pandas\\core\\dtypes\\cast.py:1056: RuntimeWarning: invalid value encountered in cast\n",
      "  if (arr.astype(int) == arr).all():\n",
      "c:\\Users\\jreynolds\\AppData\\Local\\ESRI\\conda\\envs\\arcgispro-py3-clone\\Lib\\site-packages\\pandas\\core\\dtypes\\cast.py:1080: RuntimeWarning: invalid value encountered in cast\n",
      "  if (arr.astype(int) == arr).all():\n"
     ]
    },
    {
     "data": {
      "text/plain": [
       "'e:\\\\Tasks\\\\Bike_Modeling_Data_Update\\\\Processing\\\\Outputs\\\\mmn_beehive_modeling.gdb\\\\mmn_with_bb_and_planned'"
      ]
     },
     "execution_count": 6,
     "metadata": {},
     "output_type": "execute_result"
    }
   ],
   "source": [
    "# select and buffer bikeways\n",
    "bb_split_buffered = arcpy.analysis.Buffer(bb_split, os.path.join(gdb3, '_04_bb_buffer'), \"10 Feet\", \"FULL\", \"ROUND\", None, None, \"GEODESIC\")\n",
    "bb_buffered_dissolved = arcpy.analysis.Buffer(beehive_bikeways, os.path.join(gdb3, '_05_bb_buffer_dissolved'), \"10 Feet\", \"FULL\", \"ROUND\", 'ALL', None, \"GEODESIC\")\n",
    "\n",
    "# select MMN links that are within the BB buffer, delete\n",
    "mmn_lyr = arcpy.management.MakeFeatureLayer(mmn_copy, \"mmn_lyr2\")\n",
    "print(arcpy.management.GetCount(mmn_lyr))\n",
    "arcpy.management.SelectLayerByLocation(\n",
    "    in_layer=mmn_lyr,\n",
    "    overlap_type=\"WITHIN\",\n",
    "    select_features=bb_buffered_dissolved,\n",
    "    search_distance=None,\n",
    "    selection_type=\"NEW_SELECTION\",\n",
    "    invert_spatial_relationship=\"NOT_INVERT\"\n",
    ")\n",
    "print(arcpy.management.GetCount(mmn_lyr))\n",
    "arcpy.management.CopyFeatures(mmn_lyr, os.path.join(gdb3, '_05_mmn_deleted'))\n",
    "mmn_lyr_df = pd.DataFrame.spatial.from_featureclass(mmn_lyr[0])\n",
    "\n",
    "\n",
    "\n",
    "# spatial join buffered bb links to overlapping mmn links, read into df\n",
    "fieldmappings = arcpy.FieldMappings()\n",
    "fieldmappings.addTable(bb_split_buffered)\n",
    "fieldmappings.addTable(mmn_copy)\n",
    "\n",
    "mmn_columns = ['Name', 'Oneway', 'Speed', 'AutoNetwork', 'BikeNetwork',\n",
    "       'PedNetwork', 'SourceData', 'DriveTime', 'BikeTime', 'PedestrianTime',\n",
    "       'Length_Miles', 'ConnectorNetwork', 'CartoCode', 'AADT', 'AADT_YR',\n",
    "       'BIKE_L', 'BIKE_R', 'VERT_LEVEL', 'PLANNED']\n",
    "\n",
    "for col in mmn_columns:\n",
    "    fieldindex = fieldmappings.findFieldMapIndex(col)\n",
    "    fieldmap = fieldmappings.getFieldMap(fieldindex)\n",
    "    fieldmap.mergeRule = 'First'\n",
    "    fieldmappings.replaceFieldMap(fieldindex, fieldmap)\n",
    "\n",
    "bb_mmn_sj = arcpy.SpatialJoin_analysis(bb_split_buffered, mmn_lyr, os.path.join(gdb3, '_06_mmn_non_pp_join_with_bb'),'JOIN_ONE_TO_MANY', \"KEEP_ALL\", fieldmappings, 'CONTAINS') # OR WITHIN\n",
    "\n",
    "arcpy.SelectLayerByAttribute_management(mmn_lyr, \"SWITCH_SELECTION\")\n",
    "mmn_removed =arcpy.management.CopyFeatures(mmn_lyr, os.path.join(gdb3, '_07_mmn_remaining'))\n",
    "arcpy.CalculateGeometryAttributes_management(os.path.realpath(mmn_removed[0]), [['Length_Miles','LENGTH_GEODESIC']],  length_unit='MILES_US')\n",
    "\n",
    "# read spatial join result into pandas and update bike feature attributes\n",
    "bb_mmn_sj_df = pd.DataFrame.spatial.from_featureclass(bb_mmn_sj[0])\n",
    "bb_mmn_sj_df['BIKE_L'] = bb_mmn_sj_df['TypeCode']\n",
    "bb_mmn_sj_df['BIKE_R'] = bb_mmn_sj_df['TypeCode']\n",
    "bb_mmn_sj_df['BB'] = \"1\"\n",
    "\n",
    "\n",
    "# join sj features to original overlapping mmn links\n",
    "new_mmn_links = bb_split_df[['SPLIT_ID' ,'SHAPE']].merge(bb_mmn_sj_df.drop('SHAPE', axis=1), on='SPLIT_ID', how='left') # need original mmn attributes + 'TypeCode' aka new bike infrastructure\n",
    "new_mmn_links = new_mmn_links[mmn_columns + ['BB','SHAPE']]\n",
    "new_mmn_links.spatial.to_featureclass(location=os.path.join(gdb3, '_08_new_mmn_features'),sanitize_columns=False)  # merge these after schema formatting\n",
    "\n",
    "# merge MMN (with deleted links) with new links (with)\n",
    "mmn_df = pd.DataFrame.spatial.from_featureclass(mmn_removed[0])\n",
    "mmn_df_with_new_links = pd.concat([mmn_df, new_mmn_links])\n",
    "mmn_df_with_new_links = mmn_df_with_new_links.reset_index().drop(['index','OBJECTID'], axis=1)\n",
    "\n",
    "mmn_df_with_new_links.loc[mmn_df_with_new_links['Speed'].isna() == False, 'DriveTime'] = (mmn_df_with_new_links['Length_Miles'] / mmn_df_with_new_links['Speed']) * 60\n",
    "mmn_df_with_new_links.loc[mmn_df_with_new_links['Length_Miles'].isna() == False, 'PedestrianTime'] = (mmn_df_with_new_links['Length_Miles'] / 3.1) * 60\n",
    "mmn_df_with_new_links.loc[mmn_df_with_new_links['Length_Miles'].isna() == False, 'BikeTime'] = (mmn_df_with_new_links['Length_Miles'] / 9.6) * 60\n",
    "mmn_df_with_new_links.loc[(mmn_df_with_new_links['BIKE_L'].isna() == False) | \n",
    "                          (mmn_df_with_new_links['BIKE_R'].isna() != False) | \n",
    "                          (mmn_df_with_new_links['CartoCode'] == '11 Other Local, Neighborhood, Rural Roads'), \n",
    "                          'BikeTime'] = mmn_df_with_new_links['Length_Miles'] / 11 * 60\n",
    "\n",
    "\n",
    "final_mmn = os.path.join(gdb3, '_09_mmn_with_bb_and_planned')\n",
    "mmn_df_with_new_links.spatial.to_featureclass(location=final_mmn,sanitize_columns=False)\n",
    "mmn_df_with_new_links.spatial.to_featureclass(location=os.path.join(gdb4, 'mmn_with_bb_and_planned'), sanitize_columns=False)"
   ]
  },
  {
   "cell_type": "markdown",
   "metadata": {},
   "source": [
    "## fix microzone output"
   ]
  },
  {
   "cell_type": "code",
   "execution_count": 2,
   "metadata": {},
   "outputs": [
    {
     "data": {
      "text/plain": [
       "'e:\\\\Tasks\\\\Bike_Modeling_Data_Update\\\\Processing\\\\microzones.shp'"
      ]
     },
     "execution_count": 2,
     "metadata": {},
     "output_type": "execute_result"
    }
   ],
   "source": [
    "d = pd.read_csv(r\"E:\\Projects\\utah_bike_demand_model_2024_Planned\\Create_Microzones\\Outputs\\microzones.csv\").astype('Float64')\n",
    "g =  pd.DataFrame.spatial.from_featureclass(r\"E:\\Tasks\\MICROZONES\\Inputs\\Microzones_20240815.shp\")\n",
    "gd = g[['SHAPE','zone_id']].merge(d, on='zone_id', how='left')\n",
    "gd.spatial.to_featureclass(location='microzones.shp',sanitize_columns=False) "
   ]
  }
 ],
 "metadata": {
  "kernelspec": {
   "display_name": "Python 3.7.11",
   "language": "python",
   "name": "python3"
  },
  "language_info": {
   "codemirror_mode": {
    "name": "ipython",
    "version": 3
   },
   "file_extension": ".py",
   "mimetype": "text/x-python",
   "name": "python",
   "nbconvert_exporter": "python",
   "pygments_lexer": "ipython3",
   "version": "3.11.8"
  },
  "orig_nbformat": 4,
  "vscode": {
   "interpreter": {
    "hash": "3245673af07dcc28bdd829afb187282e9288a1f8195a5928b70ecba6e5973721"
   }
  }
 },
 "nbformat": 4,
 "nbformat_minor": 2
}
