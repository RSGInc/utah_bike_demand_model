{
 "cells": [
  {
   "cell_type": "markdown",
   "metadata": {},
   "source": [
    "# Notes\n",
    "- this adds a preprocessed (snapped) Beehive bikeways network to the existing and planned networks"
   ]
  },
  {
   "cell_type": "code",
   "execution_count": 35,
   "metadata": {},
   "outputs": [],
   "source": [
    "import arcpy\n",
    "from arcpy import env\n",
    "import os\n",
    "import numpy as np\n",
    "from arcgis import GIS\n",
    "from arcgis.features import GeoAccessor\n",
    "from arcgis.features import GeoSeriesAccessor\n",
    "import pandas as pd\n",
    "\n",
    "arcpy.env.overwriteOutput = True\n",
    "arcpy.env.parallelProcessingFactor = \"90%\"\n",
    "\n",
    "# show all columns\n",
    "pd.options.display.max_columns = None\n",
    "\n",
    "# pd.pivot_table(df, values='a', index='b', columns='c', aggfunc='sum', fill_value=0)\n",
    "# pd.DataFrame.spatial.from_featureclass(???)  \n",
    "# df.spatial.to_featureclass(location=???,sanitize_columns=False)  \n",
    "\n",
    "# gsa = arcgis.features.GeoSeriesAccessor(df['SHAPE'])  \n",
    "# df['AREA'] = gsa.area  # KNOW YOUR UNITS"
   ]
  },
  {
   "cell_type": "code",
   "execution_count": 36,
   "metadata": {},
   "outputs": [],
   "source": [
    "# # fill NA values in Spatially enabled dataframes (ignores SHAPE column)\n",
    "# def fill_na_sedf(df_with_shape_column, fill_value=0):\n",
    "#     if 'SHAPE' in list(df_with_shape_column.columns):\n",
    "#         df = df_with_shape_column.copy()\n",
    "#         shape_column = df['SHAPE'].copy()\n",
    "#         del df['SHAPE']\n",
    "#         return df.fillna(fill_value).merge(shape_column,left_index=True, right_index=True, how='inner')\n",
    "#     else:\n",
    "#         raise Exception(\"Dataframe does not include 'SHAPE' column\")"
   ]
  },
  {
   "cell_type": "markdown",
   "metadata": {},
   "source": [
    "# Setup Outputs directories"
   ]
  },
  {
   "cell_type": "code",
   "execution_count": 37,
   "metadata": {},
   "outputs": [],
   "source": [
    "if not os.path.exists('Outputs'):\n",
    "    os.makedirs('Outputs')\n",
    "    \n",
    "outputs = ['.\\\\Outputs', \"bb_modeling_20240911.gdb\"]\n",
    "gdb = os.path.join(outputs[0], outputs[1])\n",
    "\n",
    "\n",
    "\n",
    "if not arcpy.Exists(gdb):\n",
    "    arcpy.CreateFileGDB_management(outputs[0], outputs[1])\n"
   ]
  },
  {
   "cell_type": "code",
   "execution_count": 38,
   "metadata": {},
   "outputs": [
    {
     "name": "stderr",
     "output_type": "stream",
     "text": [
      "c:\\Users\\jreynolds\\AppData\\Local\\ESRI\\conda\\envs\\arcgispro-py3-clone\\Lib\\site-packages\\pandas\\core\\dtypes\\cast.py:1056: RuntimeWarning: invalid value encountered in cast\n",
      "  if (arr.astype(int) == arr).all():\n",
      "c:\\Users\\jreynolds\\AppData\\Local\\ESRI\\conda\\envs\\arcgispro-py3-clone\\Lib\\site-packages\\pandas\\core\\dtypes\\cast.py:1080: RuntimeWarning: invalid value encountered in cast\n",
      "  if (arr.astype(int) == arr).all():\n",
      "c:\\Users\\jreynolds\\AppData\\Local\\ESRI\\conda\\envs\\arcgispro-py3-clone\\Lib\\site-packages\\pandas\\core\\dtypes\\cast.py:1056: RuntimeWarning: invalid value encountered in cast\n",
      "  if (arr.astype(int) == arr).all():\n",
      "c:\\Users\\jreynolds\\AppData\\Local\\ESRI\\conda\\envs\\arcgispro-py3-clone\\Lib\\site-packages\\pandas\\core\\dtypes\\cast.py:1080: RuntimeWarning: invalid value encountered in cast\n",
      "  if (arr.astype(int) == arr).all():\n"
     ]
    }
   ],
   "source": [
    "planned_bb = pd.DataFrame.spatial.from_featureclass('E:\\Tasks\\Bike_Modeling_Data_Update\\Processing\\Outputs\\BPA_PLANNED_BB.shp')\n",
    "base_bb = pd.DataFrame.spatial.from_featureclass('E:\\Tasks\\Bike_Modeling_Data_Update\\Processing\\Outputs\\BPA_BB.shp')\n",
    "template = pd.DataFrame.spatial.from_featureclass('E:\\Tasks\\Bike_Modeling_Data_Update\\Processing\\Outputs\\mmn_beehive_modeling.gdb\\mmn_with_bb_and_planned')\n",
    "bb_new_routes = pd.DataFrame.spatial.from_featureclass('E:\\Tasks\\Bike_Modeling_Data_Update\\Processing\\Inputs\\Beehive_Bikeways_New_Routes_Spplit.shp')"
   ]
  },
  {
   "cell_type": "code",
   "execution_count": 39,
   "metadata": {},
   "outputs": [
    {
     "data": {
      "text/html": [
       "<div>\n",
       "<style scoped>\n",
       "    .dataframe tbody tr th:only-of-type {\n",
       "        vertical-align: middle;\n",
       "    }\n",
       "\n",
       "    .dataframe tbody tr th {\n",
       "        vertical-align: top;\n",
       "    }\n",
       "\n",
       "    .dataframe thead th {\n",
       "        text-align: right;\n",
       "    }\n",
       "</style>\n",
       "<table border=\"1\" class=\"dataframe\">\n",
       "  <thead>\n",
       "    <tr style=\"text-align: right;\">\n",
       "      <th></th>\n",
       "      <th>BIKE_L</th>\n",
       "      <th>BIKE_R</th>\n",
       "      <th>BikeNetwork</th>\n",
       "      <th>BB</th>\n",
       "      <th>CartoCode</th>\n",
       "      <th>SHAPE</th>\n",
       "    </tr>\n",
       "  </thead>\n",
       "  <tbody>\n",
       "    <tr>\n",
       "      <th>0</th>\n",
       "      <td>PP</td>\n",
       "      <td>PP</td>\n",
       "      <td>Y</td>\n",
       "      <td>1</td>\n",
       "      <td>3 - Paved Shared Use</td>\n",
       "      <td>{\"paths\": [[[415366, 4595921.699999999], [4153...</td>\n",
       "    </tr>\n",
       "    <tr>\n",
       "      <th>1</th>\n",
       "      <td>PP</td>\n",
       "      <td>PP</td>\n",
       "      <td>Y</td>\n",
       "      <td>1</td>\n",
       "      <td>3 - Paved Shared Use</td>\n",
       "      <td>{\"paths\": [[[413009.0999999996, 4583359.5], [4...</td>\n",
       "    </tr>\n",
       "    <tr>\n",
       "      <th>2</th>\n",
       "      <td>PP</td>\n",
       "      <td>PP</td>\n",
       "      <td>Y</td>\n",
       "      <td>1</td>\n",
       "      <td>3 - Paved Shared Use</td>\n",
       "      <td>{\"paths\": [[[413016.53029999975, 4583031.12859...</td>\n",
       "    </tr>\n",
       "    <tr>\n",
       "      <th>3</th>\n",
       "      <td>PP</td>\n",
       "      <td>PP</td>\n",
       "      <td>Y</td>\n",
       "      <td>1</td>\n",
       "      <td>3 - Paved Shared Use</td>\n",
       "      <td>{\"paths\": [[[412984.5220999997, 4582361.145500...</td>\n",
       "    </tr>\n",
       "    <tr>\n",
       "      <th>4</th>\n",
       "      <td>PP</td>\n",
       "      <td>PP</td>\n",
       "      <td>Y</td>\n",
       "      <td>1</td>\n",
       "      <td>3 - Paved Shared Use</td>\n",
       "      <td>{\"paths\": [[[412976.2999999998, 4582116.5], [4...</td>\n",
       "    </tr>\n",
       "  </tbody>\n",
       "</table>\n",
       "</div>"
      ],
      "text/plain": [
       "  BIKE_L BIKE_R BikeNetwork  BB             CartoCode  \\\n",
       "0     PP     PP           Y   1  3 - Paved Shared Use   \n",
       "1     PP     PP           Y   1  3 - Paved Shared Use   \n",
       "2     PP     PP           Y   1  3 - Paved Shared Use   \n",
       "3     PP     PP           Y   1  3 - Paved Shared Use   \n",
       "4     PP     PP           Y   1  3 - Paved Shared Use   \n",
       "\n",
       "                                               SHAPE  \n",
       "0  {\"paths\": [[[415366, 4595921.699999999], [4153...  \n",
       "1  {\"paths\": [[[413009.0999999996, 4583359.5], [4...  \n",
       "2  {\"paths\": [[[413016.53029999975, 4583031.12859...  \n",
       "3  {\"paths\": [[[412984.5220999997, 4582361.145500...  \n",
       "4  {\"paths\": [[[412976.2999999998, 4582116.5], [4...  "
      ]
     },
     "execution_count": 39,
     "metadata": {},
     "output_type": "execute_result"
    }
   ],
   "source": [
    "bb_new_routes['BIKE_L'] = bb_new_routes['TypeCode']\n",
    "bb_new_routes['BIKE_R'] = bb_new_routes['TypeCode']\n",
    "bb_new_routes['BikeNetwork'] = 'Y'\n",
    "bb_new_routes['BB'] = 1\n",
    "bb_new_routes['CartoCode'] = '3 - Paved Shared Use'\n",
    "bb_new_routes = bb_new_routes[['BIKE_L', 'BIKE_R', 'BikeNetwork', 'BB', 'CartoCode', 'SHAPE']]\n",
    "bb_new_routes.head()"
   ]
  },
  {
   "cell_type": "code",
   "execution_count": 40,
   "metadata": {},
   "outputs": [],
   "source": [
    "base_bb.loc[base_bb['TypeCode'].isin(['1','3C', 'PP']), 'BIKE_R'] = base_bb['TypeCode']\n",
    "base_bb.loc[base_bb['TypeCode'].isin(['1','3C', 'PP']), 'BIKE_L'] = base_bb['TypeCode']\n",
    "planned_bb.loc[base_bb['TypeCode'].isin(['1','3C', 'PP']), 'BIKE_R'] = base_bb['TypeCode']\n",
    "planned_bb.loc[base_bb['TypeCode'].isin(['1','3C', 'PP']), 'BIKE_L'] = base_bb['TypeCode']"
   ]
  },
  {
   "cell_type": "code",
   "execution_count": 41,
   "metadata": {},
   "outputs": [],
   "source": [
    "base_bb = base_bb[['Name', 'Oneway', 'Speed', 'AutoNetwor', 'BikeNetwor',\n",
    "       'PedNetwork', 'SourceData', 'DriveTime', 'BikeTime', 'Pedestrian',\n",
    "       'Length_Mil', 'ConnectorN', 'CartoCode', 'AADT', 'AADT_YR',\n",
    "       'BIKE_L', 'BIKE_R', 'VERT_LEVEL', 'BB', 'SHAPE']].copy()\n",
    "\n",
    "base_bb.columns = ['Name', 'Oneway', 'Speed', 'AutoNetwork', 'BikeNetwork',\n",
    "       'PedNetwork', 'SourceData', 'DriveTime', 'BikeTime', 'PedestrianTime',\n",
    "       'Length_Miles', 'ConnectorNetwork', 'CartoCode', 'AADT', 'AADT_YR',\n",
    "       'BIKE_L', 'BIKE_R', 'VERT_LEVEL', 'BB', 'SHAPE']"
   ]
  },
  {
   "cell_type": "code",
   "execution_count": 42,
   "metadata": {},
   "outputs": [],
   "source": [
    "planned_bb = planned_bb[['Name', 'Oneway', 'Speed', 'AutoNetwor', 'BikeNetwor',\n",
    "       'PedNetwork', 'SourceData', 'DriveTime', 'BikeTime', 'Pedestrian',\n",
    "       'Length_Mil', 'ConnectorN', 'CartoCode', 'AADT', 'AADT_YR',\n",
    "       'BIKE_L', 'BIKE_R', 'VERT_LEVEL', 'PLANNED', 'SHAPE']].copy()\n",
    "\n",
    "planned_bb.columns = ['Name', 'Oneway', 'Speed', 'AutoNetwork', 'BikeNetwork',\n",
    "       'PedNetwork', 'SourceData', 'DriveTime', 'BikeTime', 'PedestrianTime',\n",
    "       'Length_Miles', 'ConnectorNetwork', 'CartoCode', 'AADT', 'AADT_YR',\n",
    "       'BIKE_L', 'BIKE_R', 'VERT_LEVEL', 'PLANNED', 'SHAPE']"
   ]
  },
  {
   "cell_type": "code",
   "execution_count": 43,
   "metadata": {},
   "outputs": [
    {
     "data": {
      "text/plain": [
       "'e:\\\\Tasks\\\\Bike_Modeling_Data_Update\\\\Processing\\\\Outputs\\\\bb_modeling_20240911.gdb\\\\mmn_planned_bb'"
      ]
     },
     "execution_count": 43,
     "metadata": {},
     "output_type": "execute_result"
    }
   ],
   "source": [
    "pd.concat([base_bb, bb_new_routes]).spatial.to_featureclass(location=os.path.join(gdb, 'mmn_bb'),sanitize_columns=False) \n",
    "pd.concat([planned_bb, bb_new_routes]).spatial.to_featureclass(location=os.path.join(gdb, 'mmn_planned_bb'),sanitize_columns=False) "
   ]
  }
 ],
 "metadata": {
  "kernelspec": {
   "display_name": "Python 3.7.11",
   "language": "python",
   "name": "python3"
  },
  "language_info": {
   "codemirror_mode": {
    "name": "ipython",
    "version": 3
   },
   "file_extension": ".py",
   "mimetype": "text/x-python",
   "name": "python",
   "nbconvert_exporter": "python",
   "pygments_lexer": "ipython3",
   "version": "3.11.8"
  },
  "orig_nbformat": 4,
  "vscode": {
   "interpreter": {
    "hash": "3245673af07dcc28bdd829afb187282e9288a1f8195a5928b70ecba6e5973721"
   }
  }
 },
 "nbformat": 4,
 "nbformat_minor": 2
}
