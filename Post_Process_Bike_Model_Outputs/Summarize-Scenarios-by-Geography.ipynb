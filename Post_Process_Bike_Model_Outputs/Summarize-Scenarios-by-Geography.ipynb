{
 "cells": [
  {
   "cell_type": "code",
   "execution_count": 1,
   "metadata": {},
   "outputs": [],
   "source": [
    "import arcpy\n",
    "from arcpy import env\n",
    "import os\n",
    "import numpy as np\n",
    "from arcgis import GIS\n",
    "from arcgis.features import GeoAccessor\n",
    "from arcgis.features import GeoSeriesAccessor\n",
    "import pandas as pd\n",
    "\n",
    "arcpy.env.overwriteOutput = True\n",
    "arcpy.env.parallelProcessingFactor = \"90%\"\n",
    "\n",
    "# show all columns\n",
    "pd.options.display.max_columns = None\n",
    "\n",
    "# pd.pivot_table(df, values='a', index='b', columns='c', aggfunc='sum', fill_value=0)\n",
    "# pd.DataFrame.spatial.from_featureclass(???)  \n",
    "# df.spatial.to_featureclass(location=???,sanitize_columns=False)  \n",
    "\n",
    "# gsa = arcgis.features.GeoSeriesAccessor(df['SHAPE'])  \n",
    "# df['AREA'] = gsa.area  # KNOW YOUR UNITS"
   ]
  },
  {
   "cell_type": "code",
   "execution_count": 2,
   "metadata": {},
   "outputs": [],
   "source": [
    "# fill NA values in Spatially enabled dataframes (ignores SHAPE column)\n",
    "def fill_na_sedf(df_with_shape_column, fill_value=0):\n",
    "    if 'SHAPE' in list(df_with_shape_column.columns):\n",
    "        df = df_with_shape_column.copy()\n",
    "        shape_column = df['SHAPE'].copy()\n",
    "        del df['SHAPE']\n",
    "        return df.fillna(fill_value).merge(shape_column,left_index=True, right_index=True, how='inner')\n",
    "    else:\n",
    "        raise Exception(\"Dataframe does not include 'SHAPE' column\")"
   ]
  },
  {
   "cell_type": "code",
   "execution_count": 3,
   "metadata": {},
   "outputs": [],
   "source": [
    "outputs = ['.\\\\Outputs', \"scenario_comparison.gdb\"]\n",
    "\n",
    "if not os.path.exists(outputs[0]):\n",
    "    os.makedirs(outputs[0])\n",
    "\n",
    "gdb = os.path.join(outputs[0], outputs[1])\n",
    "\n",
    "if not arcpy.Exists(gdb):\n",
    "    arcpy.CreateFileGDB_management(outputs[0], outputs[1])"
   ]
  },
  {
   "cell_type": "markdown",
   "metadata": {},
   "source": [
    "# Read in Boundaries"
   ]
  },
  {
   "cell_type": "code",
   "execution_count": 4,
   "metadata": {},
   "outputs": [],
   "source": [
    "microzones =  r'E:\\Tasks\\Bike_Modeling_Data_Update\\Processing\\Inputs\\Microzones_20240815.shp'\n",
    "taz = ('taz', r'E:\\Tasks\\Bike_Modeling_Data_Update\\Processing\\Inputs\\TAZ.gdb\\TAZ_900', 'SA_TAZID')\n",
    "city_area = ('cityarea',r'E:\\Tasks\\Bike_Modeling_Data_Update\\Processing\\Inputs\\TAZ.gdb\\CITYAREA_900', 'CityArea')\n",
    "county = ('county', r'E:\\Tasks\\Bike_Modeling_Data_Update\\Processing\\Inputs\\TAZ.gdb\\COUNTY_900', 'CO_NAME')\n",
    "subregion = ('subregion', r'E:\\Tasks\\Bike_Modeling_Data_Update\\Processing\\Inputs\\SubCountyArea_2019.shp', 'NewSA')\n",
    "centers = ('centers',r'E:\\Data\\Boundaries\\WC2050Centers.shp', 'CENTER_ID')"
   ]
  },
  {
   "cell_type": "code",
   "execution_count": 5,
   "metadata": {},
   "outputs": [],
   "source": [
    "# taz_df = pd.DataFrame.spatial.from_featureclass(taz[1])[[taz[2], 'SHAPE']]\n",
    "# city_area_df = pd.DataFrame.spatial.from_featureclass(city_area[1])[[city_area[2], 'SHAPE']]\n",
    "# county_df = pd.DataFrame.spatial.from_featureclass(county[1])[[county[2], 'SHAPE']]\n",
    "# centers_df = pd.DataFrame.spatial.from_featureclass(centers[1])[[centers[2], 'SHAPE']]"
   ]
  },
  {
   "cell_type": "code",
   "execution_count": 6,
   "metadata": {},
   "outputs": [],
   "source": [
    "# fieldmappings = arcpy.FieldMappings()\n",
    "# fieldmappings.addTable(microzones)\n",
    "# fieldmappings.addTable(centers)\n",
    "# sj_centers = arcpy.SpatialJoin_analysis(microzones, centers, os.path.join(outputs[0], 'Microzones_20240815.shp'),'JOIN_ONE_TO_ONE', \"KEEP_ALL\", fieldmappings, 'HAVE_THEIR_CENTER_IN')"
   ]
  },
  {
   "cell_type": "markdown",
   "metadata": {},
   "source": [
    "# Store Scenarios"
   ]
  },
  {
   "cell_type": "code",
   "execution_count": 7,
   "metadata": {},
   "outputs": [],
   "source": [
    "# scenarios\n",
    "se2024 = ('se2024', r'E:\\Projects\\utah_bike_demand_model_2024')\n",
    "se2024_bb = ('se2024_bb', r'E:\\Projects\\utah_bike_demand_model_2024_BB')\n",
    "se2024_planned = ('se2024_planned', r'E:\\Projects\\utah_bike_demand_model_2024_Planned')\n",
    "se2024_bb_planned = ('se2024_bb_planned', r'E:\\Projects\\utah_bike_demand_model_2024_BB_Planned')\n",
    "se2050 = ('se2050', r'E:\\Projects\\utah_bike_demand_model_2050')\n",
    "se2050_planned = ('se2050_planned', r'E:\\Projects\\utah_bike_demand_model_2050_Planned')\n",
    "se2050_bb = ('se2050_bb', r'E:\\Projects\\utah_bike_demand_model_2050_BB')\n",
    "se2050_bb_planned = ('se2050_bb_planned', r'E:\\Projects\\utah_bike_demand_model_2050_BB_Planned')"
   ]
  },
  {
   "cell_type": "markdown",
   "metadata": {},
   "source": [
    "#  Calculate Scenario Metrics "
   ]
  },
  {
   "cell_type": "markdown",
   "metadata": {},
   "source": [
    "### Bike Volume"
   ]
  },
  {
   "cell_type": "code",
   "execution_count": 8,
   "metadata": {},
   "outputs": [
    {
     "name": "stdout",
     "output_type": "stream",
     "text": [
      "working on taz...\n"
     ]
    },
    {
     "name": "stderr",
     "output_type": "stream",
     "text": [
      "c:\\Users\\jreynolds\\AppData\\Local\\ESRI\\conda\\envs\\arcgispro-py3-clone\\Lib\\site-packages\\pandas\\core\\dtypes\\cast.py:1056: RuntimeWarning: invalid value encountered in cast\n",
      "  if (arr.astype(int) == arr).all():\n",
      "c:\\Users\\jreynolds\\AppData\\Local\\ESRI\\conda\\envs\\arcgispro-py3-clone\\Lib\\site-packages\\pandas\\core\\dtypes\\cast.py:1080: RuntimeWarning: invalid value encountered in cast\n",
      "  if (arr.astype(int) == arr).all():\n",
      "c:\\Users\\jreynolds\\AppData\\Local\\ESRI\\conda\\envs\\arcgispro-py3-clone\\Lib\\site-packages\\pandas\\core\\dtypes\\cast.py:1056: RuntimeWarning: invalid value encountered in cast\n",
      "  if (arr.astype(int) == arr).all():\n",
      "c:\\Users\\jreynolds\\AppData\\Local\\ESRI\\conda\\envs\\arcgispro-py3-clone\\Lib\\site-packages\\pandas\\core\\dtypes\\cast.py:1080: RuntimeWarning: invalid value encountered in cast\n",
      "  if (arr.astype(int) == arr).all():\n",
      "c:\\Users\\jreynolds\\AppData\\Local\\ESRI\\conda\\envs\\arcgispro-py3-clone\\Lib\\site-packages\\pandas\\core\\dtypes\\cast.py:1056: RuntimeWarning: invalid value encountered in cast\n",
      "  if (arr.astype(int) == arr).all():\n",
      "c:\\Users\\jreynolds\\AppData\\Local\\ESRI\\conda\\envs\\arcgispro-py3-clone\\Lib\\site-packages\\pandas\\core\\dtypes\\cast.py:1080: RuntimeWarning: invalid value encountered in cast\n",
      "  if (arr.astype(int) == arr).all():\n",
      "c:\\Users\\jreynolds\\AppData\\Local\\ESRI\\conda\\envs\\arcgispro-py3-clone\\Lib\\site-packages\\pandas\\core\\dtypes\\cast.py:1056: RuntimeWarning: invalid value encountered in cast\n",
      "  if (arr.astype(int) == arr).all():\n",
      "c:\\Users\\jreynolds\\AppData\\Local\\ESRI\\conda\\envs\\arcgispro-py3-clone\\Lib\\site-packages\\pandas\\core\\dtypes\\cast.py:1080: RuntimeWarning: invalid value encountered in cast\n",
      "  if (arr.astype(int) == arr).all():\n"
     ]
    },
    {
     "name": "stdout",
     "output_type": "stream",
     "text": [
      "working on cityarea...\n",
      "working on county...\n",
      "working on subregion...\n",
      "working on centers...\n"
     ]
    },
    {
     "name": "stderr",
     "output_type": "stream",
     "text": [
      "c:\\Users\\jreynolds\\AppData\\Local\\ESRI\\conda\\envs\\arcgispro-py3-clone\\Lib\\site-packages\\pandas\\core\\dtypes\\cast.py:1056: RuntimeWarning: invalid value encountered in cast\n",
      "  if (arr.astype(int) == arr).all():\n",
      "c:\\Users\\jreynolds\\AppData\\Local\\ESRI\\conda\\envs\\arcgispro-py3-clone\\Lib\\site-packages\\pandas\\core\\dtypes\\cast.py:1080: RuntimeWarning: invalid value encountered in cast\n",
      "  if (arr.astype(int) == arr).all():\n",
      "c:\\Users\\jreynolds\\AppData\\Local\\ESRI\\conda\\envs\\arcgispro-py3-clone\\Lib\\site-packages\\pandas\\core\\dtypes\\cast.py:1056: RuntimeWarning: invalid value encountered in cast\n",
      "  if (arr.astype(int) == arr).all():\n",
      "c:\\Users\\jreynolds\\AppData\\Local\\ESRI\\conda\\envs\\arcgispro-py3-clone\\Lib\\site-packages\\pandas\\core\\dtypes\\cast.py:1080: RuntimeWarning: invalid value encountered in cast\n",
      "  if (arr.astype(int) == arr).all():\n",
      "c:\\Users\\jreynolds\\AppData\\Local\\ESRI\\conda\\envs\\arcgispro-py3-clone\\Lib\\site-packages\\pandas\\core\\dtypes\\cast.py:1056: RuntimeWarning: invalid value encountered in cast\n",
      "  if (arr.astype(int) == arr).all():\n",
      "c:\\Users\\jreynolds\\AppData\\Local\\ESRI\\conda\\envs\\arcgispro-py3-clone\\Lib\\site-packages\\pandas\\core\\dtypes\\cast.py:1080: RuntimeWarning: invalid value encountered in cast\n",
      "  if (arr.astype(int) == arr).all():\n",
      "c:\\Users\\jreynolds\\AppData\\Local\\ESRI\\conda\\envs\\arcgispro-py3-clone\\Lib\\site-packages\\pandas\\core\\dtypes\\cast.py:1056: RuntimeWarning: invalid value encountered in cast\n",
      "  if (arr.astype(int) == arr).all():\n",
      "c:\\Users\\jreynolds\\AppData\\Local\\ESRI\\conda\\envs\\arcgispro-py3-clone\\Lib\\site-packages\\pandas\\core\\dtypes\\cast.py:1080: RuntimeWarning: invalid value encountered in cast\n",
      "  if (arr.astype(int) == arr).all():\n"
     ]
    }
   ],
   "source": [
    "scenarios = [se2024, se2024_bb, se2024_planned, se2024_bb_planned, se2050, se2050_bb, se2050_planned, se2050_bb_planned]\n",
    "geogs = [taz, city_area, county, subregion, centers]\n",
    "\n",
    "\n",
    "for geog in geogs:\n",
    "    print(f'working on {geog[0]}...')\n",
    "    if geog == centers:\n",
    "        geog_df = pd.DataFrame.spatial.from_featureclass(geog[1])[[geog[2], 'AreaName', 'SHAPE']]\n",
    "    else:\n",
    "        geog_df = pd.DataFrame.spatial.from_featureclass(geog[1])[[geog[2], 'SHAPE']]\n",
    "\n",
    "    for scenario in scenarios:\n",
    "\n",
    "        link_volume_pts = arcpy.FeatureToPoint_management(os.path.join(scenario[1], \n",
    "                                                                    f'Post_Process_Bike_Model_Outputs\\Outputs\\{scenario[0]}.gdb\\links_bike_volume'), \n",
    "                                                                    os.path.join(gdb, f\"{scenario[0]}_link_volume_pts\"), \n",
    "                                                                    \"INSIDE\")\n",
    "\n",
    "        target_features = geog[1]\n",
    "        join_features = link_volume_pts\n",
    "        output_features = os.path.join(gdb, f\"{geog[0]}_bike_volume\")\n",
    "\n",
    "        fieldmappings = arcpy.FieldMappings()\n",
    "        fieldmappings.addTable(geog[1])\n",
    "        fieldmappings.addTable(link_volume_pts)\n",
    "\n",
    "        fieldindex = fieldmappings.findFieldMapIndex('total_bvol')\n",
    "        fieldmap = fieldmappings.getFieldMap(fieldindex)\n",
    "        fieldmap.mergeRule = 'Sum'\n",
    "        fieldmappings.replaceFieldMap(fieldindex, fieldmap)\n",
    "\n",
    "        sj = arcpy.SpatialJoin_analysis(geog[1], link_volume_pts, output_features,'JOIN_ONE_TO_ONE', \"KEEP_ALL\", fieldmappings, 'INTERSECT')\n",
    "        sj_df = pd.DataFrame.spatial.from_featureclass(sj[0])[[geog[2], 'total_bvol']].copy()\n",
    "        sj_df.columns = [geog[2], scenario[0]]\n",
    "        sj_df[scenario[0]] = sj_df[scenario[0]].fillna(0).round(2).astype('float64')\n",
    "        geog_df = geog_df.merge(sj_df, on=geog[2], how='left')\n",
    "    \n",
    "    geog_df.spatial.to_featureclass(location=os.path.join(gdb, f\"{geog[0]}_bike_volume\"), sanitize_columns=False) \n"
   ]
  },
  {
   "cell_type": "markdown",
   "metadata": {},
   "source": [
    "### Miles Travelled"
   ]
  },
  {
   "cell_type": "code",
   "execution_count": 33,
   "metadata": {},
   "outputs": [
    {
     "name": "stdout",
     "output_type": "stream",
     "text": [
      "working on taz...\n"
     ]
    },
    {
     "name": "stderr",
     "output_type": "stream",
     "text": [
      "c:\\Users\\jreynolds\\AppData\\Local\\ESRI\\conda\\envs\\arcgispro-py3-clone\\Lib\\site-packages\\pandas\\core\\dtypes\\cast.py:1056: RuntimeWarning: invalid value encountered in cast\n",
      "  if (arr.astype(int) == arr).all():\n",
      "c:\\Users\\jreynolds\\AppData\\Local\\ESRI\\conda\\envs\\arcgispro-py3-clone\\Lib\\site-packages\\pandas\\core\\dtypes\\cast.py:1080: RuntimeWarning: invalid value encountered in cast\n",
      "  if (arr.astype(int) == arr).all():\n",
      "c:\\Users\\jreynolds\\AppData\\Local\\ESRI\\conda\\envs\\arcgispro-py3-clone\\Lib\\site-packages\\pandas\\core\\dtypes\\cast.py:1056: RuntimeWarning: invalid value encountered in cast\n",
      "  if (arr.astype(int) == arr).all():\n",
      "c:\\Users\\jreynolds\\AppData\\Local\\ESRI\\conda\\envs\\arcgispro-py3-clone\\Lib\\site-packages\\pandas\\core\\dtypes\\cast.py:1080: RuntimeWarning: invalid value encountered in cast\n",
      "  if (arr.astype(int) == arr).all():\n",
      "c:\\Users\\jreynolds\\AppData\\Local\\ESRI\\conda\\envs\\arcgispro-py3-clone\\Lib\\site-packages\\pandas\\core\\dtypes\\cast.py:1056: RuntimeWarning: invalid value encountered in cast\n",
      "  if (arr.astype(int) == arr).all():\n",
      "c:\\Users\\jreynolds\\AppData\\Local\\ESRI\\conda\\envs\\arcgispro-py3-clone\\Lib\\site-packages\\pandas\\core\\dtypes\\cast.py:1080: RuntimeWarning: invalid value encountered in cast\n",
      "  if (arr.astype(int) == arr).all():\n",
      "c:\\Users\\jreynolds\\AppData\\Local\\ESRI\\conda\\envs\\arcgispro-py3-clone\\Lib\\site-packages\\pandas\\core\\dtypes\\cast.py:1056: RuntimeWarning: invalid value encountered in cast\n",
      "  if (arr.astype(int) == arr).all():\n",
      "c:\\Users\\jreynolds\\AppData\\Local\\ESRI\\conda\\envs\\arcgispro-py3-clone\\Lib\\site-packages\\pandas\\core\\dtypes\\cast.py:1080: RuntimeWarning: invalid value encountered in cast\n",
      "  if (arr.astype(int) == arr).all():\n"
     ]
    },
    {
     "name": "stdout",
     "output_type": "stream",
     "text": [
      "working on cityarea...\n",
      "working on county...\n",
      "working on subregion...\n",
      "working on centers...\n"
     ]
    },
    {
     "name": "stderr",
     "output_type": "stream",
     "text": [
      "c:\\Users\\jreynolds\\AppData\\Local\\ESRI\\conda\\envs\\arcgispro-py3-clone\\Lib\\site-packages\\pandas\\core\\dtypes\\cast.py:1056: RuntimeWarning: invalid value encountered in cast\n",
      "  if (arr.astype(int) == arr).all():\n",
      "c:\\Users\\jreynolds\\AppData\\Local\\ESRI\\conda\\envs\\arcgispro-py3-clone\\Lib\\site-packages\\pandas\\core\\dtypes\\cast.py:1080: RuntimeWarning: invalid value encountered in cast\n",
      "  if (arr.astype(int) == arr).all():\n",
      "c:\\Users\\jreynolds\\AppData\\Local\\ESRI\\conda\\envs\\arcgispro-py3-clone\\Lib\\site-packages\\pandas\\core\\dtypes\\cast.py:1056: RuntimeWarning: invalid value encountered in cast\n",
      "  if (arr.astype(int) == arr).all():\n",
      "c:\\Users\\jreynolds\\AppData\\Local\\ESRI\\conda\\envs\\arcgispro-py3-clone\\Lib\\site-packages\\pandas\\core\\dtypes\\cast.py:1080: RuntimeWarning: invalid value encountered in cast\n",
      "  if (arr.astype(int) == arr).all():\n",
      "c:\\Users\\jreynolds\\AppData\\Local\\ESRI\\conda\\envs\\arcgispro-py3-clone\\Lib\\site-packages\\pandas\\core\\dtypes\\cast.py:1056: RuntimeWarning: invalid value encountered in cast\n",
      "  if (arr.astype(int) == arr).all():\n",
      "c:\\Users\\jreynolds\\AppData\\Local\\ESRI\\conda\\envs\\arcgispro-py3-clone\\Lib\\site-packages\\pandas\\core\\dtypes\\cast.py:1080: RuntimeWarning: invalid value encountered in cast\n",
      "  if (arr.astype(int) == arr).all():\n",
      "c:\\Users\\jreynolds\\AppData\\Local\\ESRI\\conda\\envs\\arcgispro-py3-clone\\Lib\\site-packages\\pandas\\core\\dtypes\\cast.py:1056: RuntimeWarning: invalid value encountered in cast\n",
      "  if (arr.astype(int) == arr).all():\n",
      "c:\\Users\\jreynolds\\AppData\\Local\\ESRI\\conda\\envs\\arcgispro-py3-clone\\Lib\\site-packages\\pandas\\core\\dtypes\\cast.py:1080: RuntimeWarning: invalid value encountered in cast\n",
      "  if (arr.astype(int) == arr).all():\n"
     ]
    }
   ],
   "source": [
    "\n",
    "scenarios = [se2024, se2024_bb, se2024_planned, se2024_bb_planned, se2050, se2050_bb, se2050_planned, se2050_bb_planned]\n",
    "geogs = [taz, city_area, county, subregion, centers]\n",
    "\n",
    "\n",
    "for geog in geogs:\n",
    "    print(f'working on {geog[0]}...')\n",
    "    if geog == centers:\n",
    "        geog_df = pd.DataFrame.spatial.from_featureclass(geog[1])[[geog[2], 'AreaName', 'SHAPE']]\n",
    "    else:\n",
    "        geog_df = pd.DataFrame.spatial.from_featureclass(geog[1])[[geog[2], 'SHAPE']]\n",
    "\n",
    "    for scenario in scenarios:\n",
    "\n",
    "        link_volume_pts = arcpy.FeatureToPoint_management(os.path.join(scenario[1], \n",
    "                                                                    f'Post_Process_Bike_Model_Outputs\\Outputs\\{scenario[0]}.gdb\\links_bike_volume'), \n",
    "                                                                    os.path.join(gdb, f\"{scenario[0]}_link_volume_pts\"), \n",
    "                                                                    \"INSIDE\")\n",
    "\n",
    "        target_features = geog[1]\n",
    "        join_features = link_volume_pts\n",
    "        output_features = os.path.join(gdb, f\"{geog[0]}_bike_volume\")\n",
    "\n",
    "        fieldmappings = arcpy.FieldMappings()\n",
    "        fieldmappings.addTable(geog[1])\n",
    "        fieldmappings.addTable(link_volume_pts)\n",
    "\n",
    "\n",
    "        fieldindex = fieldmappings.findFieldMapIndex('miles_trv')\n",
    "        fieldmap = fieldmappings.getFieldMap(fieldindex)\n",
    "        fieldmap.mergeRule = 'Sum'\n",
    "        fieldmappings.replaceFieldMap(fieldindex, fieldmap)\n",
    "\n",
    "        sj = arcpy.SpatialJoin_analysis(geog[1], link_volume_pts, output_features,'JOIN_ONE_TO_ONE', \"KEEP_ALL\", fieldmappings, 'INTERSECT')\n",
    "        sj_df = pd.DataFrame.spatial.from_featureclass(sj[0])[[geog[2], 'miles_trv']].copy()\n",
    "        sj_df.columns = [geog[2], scenario[0]]\n",
    "        sj_df[scenario[0]] = sj_df[scenario[0]].fillna(0).round(2).astype('float64')\n",
    "        geog_df = geog_df.merge(sj_df, on=geog[2], how='left')\n",
    "\n",
    "        try:\n",
    "            arcpy.management.Delete(link_volume_pts)\n",
    "            arcpy.management.Delete(sj)\n",
    "        except:\n",
    "            print('failed to delete something... oh well...')\n",
    "    \n",
    "    geog_df.spatial.to_featureclass(location=os.path.join(gdb, f\"{geog[0]}_miles_travelled\"), sanitize_columns=False) "
   ]
  },
  {
   "cell_type": "markdown",
   "metadata": {},
   "source": [
    "### trip counts"
   ]
  },
  {
   "cell_type": "code",
   "execution_count": 34,
   "metadata": {},
   "outputs": [
    {
     "name": "stdout",
     "output_type": "stream",
     "text": [
      "working on taz...\n",
      "working on cityarea...\n",
      "working on county...\n",
      "working on subregion...\n",
      "working on centers...\n"
     ]
    }
   ],
   "source": [
    "scenarios = [se2024, se2024_bb, se2024_planned, se2024_bb_planned, se2050, se2050_bb, se2050_planned, se2050_bb_planned]\n",
    "geogs = [taz, city_area, county, subregion, centers]\n",
    "purposes = ['disc',  'mnt', 'mntnhb',  'recfam', 'reclng', 'recmtb', 'recoth', 'grade',  'univ', 'wrk', 'wrknhb', 'total']\n",
    "\n",
    "for geog in geogs:\n",
    "    print(f'working on {geog[0]}...')\n",
    "\n",
    "    for purpose in purposes:\n",
    "        # print(f'--working on {purpose}...')\n",
    "        if geog == centers:\n",
    "            geog_df = pd.DataFrame.spatial.from_featureclass(geog[1])[[geog[2], 'AreaName', 'SHAPE']]\n",
    "        else:\n",
    "            geog_df = pd.DataFrame.spatial.from_featureclass(geog[1])[[geog[2], 'SHAPE']]\n",
    "\n",
    "        for scenario in scenarios:\n",
    "            # print(f'----working on {scenario[0]}...')\n",
    "            zone_trips_pts = arcpy.FeatureToPoint_management(os.path.join(scenario[1], \n",
    "                                                                        f'Post_Process_Bike_Model_Outputs\\Outputs\\{scenario[0]}.gdb\\Microzone_Trip_Summaries'), \n",
    "                                                                        os.path.join(gdb, f\"{scenario[0]}_zone_trips_pts\"), \n",
    "                                                                        \"INSIDE\")\n",
    "\n",
    "            target_features = geog[1]\n",
    "            join_features = zone_trips_pts\n",
    "            output_features = os.path.join(gdb, f\"{geog[0]}_zone_trips\")\n",
    "\n",
    "            fieldmappings = arcpy.FieldMappings()\n",
    "            fieldmappings.addTable(geog[1])\n",
    "            fieldmappings.addTable(zone_trips_pts)\n",
    "\n",
    "            fieldindex = fieldmappings.findFieldMapIndex(f'{purpose}_abk')\n",
    "            fieldmap = fieldmappings.getFieldMap(fieldindex)\n",
    "            fieldmap.mergeRule = 'Sum'\n",
    "            fieldmappings.replaceFieldMap(fieldindex, fieldmap)\n",
    "\n",
    "            fieldindex = fieldmappings.findFieldMapIndex(f'{purpose}_pbk')\n",
    "            fieldmap = fieldmappings.getFieldMap(fieldindex)\n",
    "            fieldmap.mergeRule = 'Sum'\n",
    "            fieldmappings.replaceFieldMap(fieldindex, fieldmap)\n",
    "\n",
    "            sj = arcpy.SpatialJoin_analysis(geog[1], zone_trips_pts, output_features,'JOIN_ONE_TO_ONE', \"KEEP_ALL\", fieldmappings, 'INTERSECT')\n",
    "            sj_df = pd.DataFrame.spatial.from_featureclass(sj[0])[[geog[2], f'{purpose}_pbk', f'{purpose}_abk']].copy()\n",
    "            sj_df.columns = [geog[2], f'{scenario[0]}_pbk', f'{scenario[0]}_abk']\n",
    "            sj_df[f'{scenario[0]}_pbk'] = sj_df[f'{scenario[0]}_pbk'].fillna(0).round(2).astype('float64')\n",
    "            sj_df[f'{scenario[0]}_abk'] = sj_df[f'{scenario[0]}_abk'].fillna(0).round(2).astype('float64')\n",
    "            geog_df = geog_df.merge(sj_df, on=geog[2], how='left')\n",
    "\n",
    "            try:\n",
    "                arcpy.management.Delete(zone_trips_pts)\n",
    "                arcpy.management.Delete(sj)\n",
    "            except:\n",
    "                print('failed to delete something... oh well...')\n",
    "        \n",
    "        geog_df.spatial.to_featureclass(location=os.path.join(gdb, f\"{geog[0]}_{purpose}_trips\"), sanitize_columns=False) "
   ]
  },
  {
   "cell_type": "code",
   "execution_count": null,
   "metadata": {},
   "outputs": [],
   "source": [
    "# trips produced by purpose, by taz\n",
    "\n",
    "# trips attracted by purpose, by taz\n",
    "\n",
    "# trips produced by purpose, by city area\n",
    "\n",
    "# trips attracted by purpose, by city area\n",
    "\n",
    "# trips attracted by purpose, in center\n",
    "\n",
    "\n",
    "#     mmn_columns = ['Name', 'Oneway', 'Speed', 'AutoNetwork', 'BikeNetwork',\n",
    "    #    'PedNetwork', 'SourceData', 'DriveTime', 'BikeTime', 'PedestrianTime',\n",
    "    #    'Length_Miles', 'ConnectorNetwork', 'CartoCode', 'AADT', 'AADT_YR',\n",
    "    #    'BIKE_L', 'BIKE_R', 'VERT_LEVEL']\n",
    "\n",
    "        # for col in mmn_columns:\n",
    "        #     fieldindex = fieldmappings.findFieldMapIndex(col)\n",
    "        #     fieldmap = fieldmappings.getFieldMap(fieldindex)\n",
    "        #     fieldmap.mergeRule = 'Sum'\n",
    "        #     fieldmappings.replaceFieldMap(fieldindex, fieldmap)"
   ]
  },
  {
   "cell_type": "markdown",
   "metadata": {},
   "source": [
    "# Scenario Comparison"
   ]
  },
  {
   "cell_type": "code",
   "execution_count": null,
   "metadata": {},
   "outputs": [],
   "source": []
  },
  {
   "cell_type": "code",
   "execution_count": null,
   "metadata": {},
   "outputs": [],
   "source": []
  },
  {
   "cell_type": "code",
   "execution_count": null,
   "metadata": {},
   "outputs": [],
   "source": []
  },
  {
   "cell_type": "code",
   "execution_count": null,
   "metadata": {},
   "outputs": [],
   "source": []
  }
 ],
 "metadata": {
  "kernelspec": {
   "display_name": "Python 3.7.11",
   "language": "python",
   "name": "python3"
  },
  "language_info": {
   "codemirror_mode": {
    "name": "ipython",
    "version": 3
   },
   "file_extension": ".py",
   "mimetype": "text/x-python",
   "name": "python",
   "nbconvert_exporter": "python",
   "pygments_lexer": "ipython3",
   "version": "3.11.8"
  },
  "orig_nbformat": 4,
  "vscode": {
   "interpreter": {
    "hash": "3245673af07dcc28bdd829afb187282e9288a1f8195a5928b70ecba6e5973721"
   }
  }
 },
 "nbformat": 4,
 "nbformat_minor": 2
}
