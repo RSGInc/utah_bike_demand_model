{
 "cells": [
  {
   "cell_type": "code",
   "execution_count": 2,
   "metadata": {},
   "outputs": [],
   "source": [
    "import os\n",
    "import numpy as np\n",
    "import pandas as pd\n",
    "import arcpy\n",
    "from arcgis.features import GeoAccessor, GeoSeriesAccessor\n",
    "arcpy.env.overwriteOutput = True\n",
    "\n",
    "# show all columns\n",
    "pd.options.display.max_columns = None\n",
    "\n",
    "# pd.DataFrame.spatial.from_featureclass(???)\n",
    "# df.spatial.to_featureclass(location=???,sanitize_columns=False)"
   ]
  },
  {
   "cell_type": "code",
   "execution_count": 3,
   "metadata": {},
   "outputs": [],
   "source": [
    "scenario = pd.DataFrame.spatial.from_featureclass(r\"E:\\Projects\\utah_bike_demand_model_3900\\Post_Process_Bike_Model_Outputs\\Default.gdb\\links_bv\")\n",
    "base = pd.DataFrame.spatial.from_featureclass(r\"E:\\Projects\\utah_bike_demand_model_BASE\\Post_Process_Bike_Model_Outputs\\Default.gdb\\links_bv\")"
   ]
  },
  {
   "cell_type": "code",
   "execution_count": 12,
   "metadata": {},
   "outputs": [
    {
     "data": {
      "text/plain": [
       "Index(['link_id', 'ft_bvol', 'tf_bvol', 'total_bvol', 'slope_ab', 'slope_ba',\n",
       "       'slope_per'],\n",
       "      dtype='object')"
      ]
     },
     "execution_count": 12,
     "metadata": {},
     "output_type": "execute_result"
    }
   ],
   "source": [
    "base.columns"
   ]
  },
  {
   "cell_type": "code",
   "execution_count": 8,
   "metadata": {},
   "outputs": [],
   "source": [
    "columns = ['link_id','ft_bvol','tf_bvol','total_bvol','slope_ab','slope_ba','slope_per']\n",
    "base = base[columns]\n",
    "scenario = scenario[columns]\n",
    "scenario.columns = ['link_id_3900','ft_bvol_3900','tf_bvol_3900','total_bvol_3900','slope_ab_3900','slope_ba_3900','slope_per_3900']"
   ]
  },
  {
   "cell_type": "code",
   "execution_count": 13,
   "metadata": {},
   "outputs": [],
   "source": [
    "lv = base.merge(scenario, left_on='link_id', right_on='link_id_3900', how='outer')\n",
    "# lv['total_bvol_old'] = lv['total_bvol_old'].astype(float)"
   ]
  },
  {
   "cell_type": "code",
   "execution_count": 30,
   "metadata": {},
   "outputs": [
    {
     "data": {
      "text/html": [
       "<div>\n",
       "<style scoped>\n",
       "    .dataframe tbody tr th:only-of-type {\n",
       "        vertical-align: middle;\n",
       "    }\n",
       "\n",
       "    .dataframe tbody tr th {\n",
       "        vertical-align: top;\n",
       "    }\n",
       "\n",
       "    .dataframe thead th {\n",
       "        text-align: right;\n",
       "    }\n",
       "</style>\n",
       "<table border=\"1\" class=\"dataframe\">\n",
       "  <thead>\n",
       "    <tr style=\"text-align: right;\">\n",
       "      <th></th>\n",
       "      <th>link_id</th>\n",
       "      <th>ft_bvol</th>\n",
       "      <th>tf_bvol</th>\n",
       "      <th>total_bvol</th>\n",
       "      <th>link_id_igraph</th>\n",
       "      <th>ft_bvol_old</th>\n",
       "      <th>tf_bvol_old</th>\n",
       "      <th>total_bvol_old</th>\n",
       "    </tr>\n",
       "  </thead>\n",
       "  <tbody>\n",
       "    <tr>\n",
       "      <th>84759</th>\n",
       "      <td>88785.0</td>\n",
       "      <td>4126.815406</td>\n",
       "      <td>7873.798316</td>\n",
       "      <td>12000.613722</td>\n",
       "      <td>88785.0</td>\n",
       "      <td>116.230988692377</td>\n",
       "      <td>14.0768266176864</td>\n",
       "      <td>130.307815</td>\n",
       "    </tr>\n",
       "    <tr>\n",
       "      <th>84845</th>\n",
       "      <td>88872.0</td>\n",
       "      <td>4103.411239</td>\n",
       "      <td>8012.006618</td>\n",
       "      <td>12115.417857</td>\n",
       "      <td>88872.0</td>\n",
       "      <td>85.3391916980807</td>\n",
       "      <td>115.8997392439</td>\n",
       "      <td>201.238931</td>\n",
       "    </tr>\n",
       "    <tr>\n",
       "      <th>85060</th>\n",
       "      <td>89090.0</td>\n",
       "      <td>4067.932159</td>\n",
       "      <td>8105.691944</td>\n",
       "      <td>12173.624103</td>\n",
       "      <td>89090.0</td>\n",
       "      <td>36.8633752113028</td>\n",
       "      <td>113.946300211006</td>\n",
       "      <td>150.809675</td>\n",
       "    </tr>\n",
       "    <tr>\n",
       "      <th>85682</th>\n",
       "      <td>89722.0</td>\n",
       "      <td>4072.335031</td>\n",
       "      <td>8141.071543</td>\n",
       "      <td>12213.406574</td>\n",
       "      <td>89722.0</td>\n",
       "      <td>36.8633752113028</td>\n",
       "      <td>113.946300211006</td>\n",
       "      <td>150.809675</td>\n",
       "    </tr>\n",
       "    <tr>\n",
       "      <th>85936</th>\n",
       "      <td>89992.0</td>\n",
       "      <td>4153.098149</td>\n",
       "      <td>8019.134939</td>\n",
       "      <td>12172.233088</td>\n",
       "      <td>89992.0</td>\n",
       "      <td>16.6716355465319</td>\n",
       "      <td>155.482298289747</td>\n",
       "      <td>172.153934</td>\n",
       "    </tr>\n",
       "    <tr>\n",
       "      <th>85975</th>\n",
       "      <td>90034.0</td>\n",
       "      <td>4144.492767</td>\n",
       "      <td>8012.264192</td>\n",
       "      <td>12156.756959</td>\n",
       "      <td>90034.0</td>\n",
       "      <td>10.0761930323672</td>\n",
       "      <td>172.480212010385</td>\n",
       "      <td>182.556405</td>\n",
       "    </tr>\n",
       "    <tr>\n",
       "      <th>89944</th>\n",
       "      <td>94123.0</td>\n",
       "      <td>3976.580576</td>\n",
       "      <td>8524.595213</td>\n",
       "      <td>12501.175789</td>\n",
       "      <td>94123.0</td>\n",
       "      <td>85.8204893953734</td>\n",
       "      <td>26.5003411518075</td>\n",
       "      <td>112.320831</td>\n",
       "    </tr>\n",
       "    <tr>\n",
       "      <th>90031</th>\n",
       "      <td>94215.0</td>\n",
       "      <td>3912.943816</td>\n",
       "      <td>8559.275911</td>\n",
       "      <td>12472.219728</td>\n",
       "      <td>94215.0</td>\n",
       "      <td>25.4573520491063</td>\n",
       "      <td>62.8951288770395</td>\n",
       "      <td>88.352481</td>\n",
       "    </tr>\n",
       "    <tr>\n",
       "      <th>90098</th>\n",
       "      <td>94283.0</td>\n",
       "      <td>3912.943816</td>\n",
       "      <td>8559.275911</td>\n",
       "      <td>12472.219728</td>\n",
       "      <td>94283.0</td>\n",
       "      <td>14.2852197454858</td>\n",
       "      <td>51.722996573419</td>\n",
       "      <td>66.008216</td>\n",
       "    </tr>\n",
       "    <tr>\n",
       "      <th>90691</th>\n",
       "      <td>94896.0</td>\n",
       "      <td>3708.095741</td>\n",
       "      <td>10516.219771</td>\n",
       "      <td>14224.315513</td>\n",
       "      <td>94896.0</td>\n",
       "      <td>104.221715606451</td>\n",
       "      <td>591.310719959979</td>\n",
       "      <td>695.532436</td>\n",
       "    </tr>\n",
       "  </tbody>\n",
       "</table>\n",
       "</div>"
      ],
      "text/plain": [
       "       link_id      ft_bvol       tf_bvol    total_bvol  link_id_igraph  \\\n",
       "84759  88785.0  4126.815406   7873.798316  12000.613722         88785.0   \n",
       "84845  88872.0  4103.411239   8012.006618  12115.417857         88872.0   \n",
       "85060  89090.0  4067.932159   8105.691944  12173.624103         89090.0   \n",
       "85682  89722.0  4072.335031   8141.071543  12213.406574         89722.0   \n",
       "85936  89992.0  4153.098149   8019.134939  12172.233088         89992.0   \n",
       "85975  90034.0  4144.492767   8012.264192  12156.756959         90034.0   \n",
       "89944  94123.0  3976.580576   8524.595213  12501.175789         94123.0   \n",
       "90031  94215.0  3912.943816   8559.275911  12472.219728         94215.0   \n",
       "90098  94283.0  3912.943816   8559.275911  12472.219728         94283.0   \n",
       "90691  94896.0  3708.095741  10516.219771  14224.315513         94896.0   \n",
       "\n",
       "            ft_bvol_old       tf_bvol_old  total_bvol_old  \n",
       "84759  116.230988692377  14.0768266176864      130.307815  \n",
       "84845  85.3391916980807    115.8997392439      201.238931  \n",
       "85060  36.8633752113028  113.946300211006      150.809675  \n",
       "85682  36.8633752113028  113.946300211006      150.809675  \n",
       "85936  16.6716355465319  155.482298289747      172.153934  \n",
       "85975  10.0761930323672  172.480212010385      182.556405  \n",
       "89944  85.8204893953734  26.5003411518075      112.320831  \n",
       "90031  25.4573520491063  62.8951288770395       88.352481  \n",
       "90098  14.2852197454858   51.722996573419       66.008216  \n",
       "90691  104.221715606451  591.310719959979      695.532436  "
      ]
     },
     "execution_count": 30,
     "metadata": {},
     "output_type": "execute_result"
    }
   ],
   "source": [
    "# lv[(lv['total_bvol']>12000) & (lv['total_bvol_old']<1000)]"
   ]
  },
  {
   "cell_type": "code",
   "execution_count": 14,
   "metadata": {},
   "outputs": [
    {
     "data": {
      "text/html": [
       "<div>\n",
       "<style scoped>\n",
       "    .dataframe tbody tr th:only-of-type {\n",
       "        vertical-align: middle;\n",
       "    }\n",
       "\n",
       "    .dataframe tbody tr th {\n",
       "        vertical-align: top;\n",
       "    }\n",
       "\n",
       "    .dataframe thead th {\n",
       "        text-align: right;\n",
       "    }\n",
       "</style>\n",
       "<table border=\"1\" class=\"dataframe\">\n",
       "  <thead>\n",
       "    <tr style=\"text-align: right;\">\n",
       "      <th></th>\n",
       "      <th>total_bvol</th>\n",
       "      <th>total_bvol_3900</th>\n",
       "    </tr>\n",
       "  </thead>\n",
       "  <tbody>\n",
       "    <tr>\n",
       "      <th>total_bvol</th>\n",
       "      <td>1.000000</td>\n",
       "      <td>0.586837</td>\n",
       "    </tr>\n",
       "    <tr>\n",
       "      <th>total_bvol_3900</th>\n",
       "      <td>0.586837</td>\n",
       "      <td>1.000000</td>\n",
       "    </tr>\n",
       "  </tbody>\n",
       "</table>\n",
       "</div>"
      ],
      "text/plain": [
       "                 total_bvol  total_bvol_3900\n",
       "total_bvol         1.000000         0.586837\n",
       "total_bvol_3900    0.586837         1.000000"
      ]
     },
     "execution_count": 14,
     "metadata": {},
     "output_type": "execute_result"
    }
   ],
   "source": [
    "lv[['total_bvol','total_bvol_3900']].corr()"
   ]
  },
  {
   "cell_type": "code",
   "execution_count": 18,
   "metadata": {},
   "outputs": [
    {
     "data": {
      "text/plain": [
       "<AxesSubplot:xlabel='total_bvol', ylabel='total_bvol_3900'>"
      ]
     },
     "execution_count": 18,
     "metadata": {},
     "output_type": "execute_result"
    },
    {
     "data": {
      "image/png": "[encoded data removed]",
      "text/plain": [
       "<Figure size 432x288 with 1 Axes>"
      ]
     },
     "metadata": {
      "needs_background": "light"
     },
     "output_type": "display_data"
    }
   ],
   "source": [
    "lv.plot.scatter(x='total_bvol', y='total_bvol_3900', c='DarkBlue',s=10,marker='+', xlim=[0,10000])"
   ]
  },
  {
   "cell_type": "code",
   "execution_count": 25,
   "metadata": {},
   "outputs": [
    {
     "data": {
      "text/plain": [
       "<AxesSubplot:xlabel='slope_per', ylabel='slope_per_3900'>"
      ]
     },
     "execution_count": 25,
     "metadata": {},
     "output_type": "execute_result"
    },
    {
     "data": {
      "image/png": "[encoded data removed]",
      "text/plain": [
       "<Figure size 432x288 with 1 Axes>"
      ]
     },
     "metadata": {
      "needs_background": "light"
     },
     "output_type": "display_data"
    }
   ],
   "source": [
    "lv.plot.scatter(x='slope_per', y='slope_per_3900', c='DarkBlue',s=10,marker='+', ylim=[0,50], xlim=[0,50])"
   ]
  }
 ],
 "metadata": {
  "kernelspec": {
   "display_name": "joshPy3",
   "language": "python",
   "name": "joshpy3"
  },
  "language_info": {
   "codemirror_mode": {
    "name": "ipython",
    "version": 3
   },
   "file_extension": ".py",
   "mimetype": "text/x-python",
   "name": "python",
   "nbconvert_exporter": "python",
   "pygments_lexer": "ipython3",
   "version": "3.7.10"
  },
  "varInspector": {
   "cols": {
    "lenName": 16,
    "lenType": 16,
    "lenVar": 40
   },
   "kernels_config": {
    "python": {
     "delete_cmd_postfix": "",
     "delete_cmd_prefix": "del ",
     "library": "var_list.py",
     "varRefreshCmd": "print(var_dic_list())"
    },
    "r": {
     "delete_cmd_postfix": ") ",
     "delete_cmd_prefix": "rm(",
     "library": "var_list.r",
     "varRefreshCmd": "cat(var_dic_list()) "
    }
   },
   "types_to_exclude": [
    "module",
    "function",
    "builtin_function_or_method",
    "instance",
    "_Feature"
   ],
   "window_display": false
  }
 },
 "nbformat": 4,
 "nbformat_minor": 4
}
