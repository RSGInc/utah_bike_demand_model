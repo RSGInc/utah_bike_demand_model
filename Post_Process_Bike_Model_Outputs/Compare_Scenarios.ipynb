{
 "cells": [
  {
   "cell_type": "code",
   "execution_count": 1,
   "metadata": {},
   "outputs": [],
   "source": [
    "import os\n",
    "import numpy as np\n",
    "import pandas as pd\n",
    "import arcpy\n",
    "from arcgis.features import GeoAccessor, GeoSeriesAccessor\n",
    "arcpy.env.overwriteOutput = True\n",
    "\n",
    "# show all columns\n",
    "pd.options.display.max_columns = None\n",
    "\n",
    "# pd.DataFrame.spatial.from_featureclass(???)\n",
    "# df.spatial.to_featureclass(location=???,sanitize_columns=False)"
   ]
  },
  {
   "cell_type": "code",
   "execution_count": 2,
   "metadata": {},
   "outputs": [],
   "source": [
    "# create output gdb\n",
    "outputs = '.\\\\Outputs'\n",
    "gdb = os.path.join(outputs, \"network2.gdb\")\n",
    "if not arcpy.Exists(gdb):\n",
    "    arcpy.CreateFileGDB_management(outputs, \"network2.gdb\")"
   ]
  },
  {
   "cell_type": "code",
   "execution_count": 3,
   "metadata": {},
   "outputs": [],
   "source": [
    "scenario = pd.DataFrame.spatial.from_featureclass(r\"E:\\Projects\\utah_bike_demand_model\\Post_Process_Bike_Model_Outputs\\Outputs\\network_3900.gdb\\links_bv\")\n",
    "base = pd.DataFrame.spatial.from_featureclass(r\"E:\\Active_Transportation\\Scenarios\\3900 South\\network_base.gdb\\links_bv\")"
   ]
  },
  {
   "cell_type": "code",
   "execution_count": 4,
   "metadata": {},
   "outputs": [
    {
     "data": {
      "text/plain": [
       "Index(['OBJECTID', 'fid', 'id', 'link_id', 'temp_id', 'from_node', 'to_node',\n",
       "       'from_x', 'from_y', 'to_x', 'to_y', 'name', 'oneway', 'speed',\n",
       "       'drive_time', 'bike_time', 'pedestrian', 'len_miles', 'connector_n',\n",
       "       'carto_code', 'aadt', 'len_meters', 'signal', 'sig_count', 'bike_lane',\n",
       "       'bike_path', 'bike_blvd', 'from_z', 'to_z', 'slope_ab', 'slope_ba',\n",
       "       'slope_per', 'key', 'total_bvol', 'ft_bvol', 'tf_bvol', 'SHAPE'],\n",
       "      dtype='object')"
      ]
     },
     "execution_count": 4,
     "metadata": {},
     "output_type": "execute_result"
    }
   ],
   "source": [
    "base.columns"
   ]
  },
  {
   "cell_type": "code",
   "execution_count": 5,
   "metadata": {},
   "outputs": [
    {
     "data": {
      "text/plain": [
       "'E:\\\\Projects\\\\utah_bike_demand_model\\\\Post_Process_Bike_Model_Outputs\\\\Outputs\\\\network2.gdb\\\\scenario'"
      ]
     },
     "execution_count": 5,
     "metadata": {},
     "output_type": "execute_result"
    }
   ],
   "source": [
    "# subset columns\n",
    "columns = ['link_id','ft_bvol','tf_bvol','total_bvol','slope_ab','slope_ba','slope_per','SHAPE']\n",
    "base = base[columns].copy()\n",
    "scenario = scenario[columns].copy()\n",
    "\n",
    "# update column names for scenario\n",
    "scenario_name = '_3900S'\n",
    "new_columns = [(lambda col: col + scenario_name if col != 'SHAPE' else col) (col) for col in columns]\n",
    "scenario.columns = new_columns\n",
    "\n",
    "# export formatted tables\n",
    "base.spatial.to_featureclass(location=os.path.join(gdb, 'base'),sanitize_columns=False)\n",
    "scenario.spatial.to_featureclass(location=os.path.join(gdb, 'scenario'),sanitize_columns=False)"
   ]
  },
  {
   "cell_type": "code",
   "execution_count": 7,
   "metadata": {},
   "outputs": [],
   "source": [
    "# summarize address points address_point_count \"ap_count\"\n",
    "target_features = base\n",
    "join_features = scenario\n",
    "output_features = os.path.join(gdb, \"joined\")\n",
    "\n",
    "#spatial join\n",
    "link_join = arcpy.SpatialJoin_analysis(target_features, join_features, output_features,'JOIN_ONE_TO_ONE', \"KEEP_ALL\", \n",
    "                                       match_option=\"ARE_IDENTICAL_TO\")\n",
    "\n",
    "link_join_df = pd.DataFrame.spatial.from_featureclass(link_join)"
   ]
  },
  {
   "cell_type": "code",
   "execution_count": 8,
   "metadata": {},
   "outputs": [
    {
     "data": {
      "text/plain": [
       "<AxesSubplot:xlabel='total_bvol', ylabel='total_bvol_3900S'>"
      ]
     },
     "execution_count": 8,
     "metadata": {},
     "output_type": "execute_result"
    },
    {
     "data": {
      "image/png": "[encoded data removed]",
      "text/plain": [
       "<Figure size 432x288 with 1 Axes>"
      ]
     },
     "metadata": {
      "needs_background": "light"
     },
     "output_type": "display_data"
    }
   ],
   "source": [
    "link_join_df.plot.scatter(x='total_bvol', y='total_bvol{}'.format(scenario_name), c='DarkBlue',s=10,marker='+')"
   ]
  },
  {
   "cell_type": "code",
   "execution_count": 9,
   "metadata": {},
   "outputs": [
    {
     "data": {
      "text/plain": [
       "<AxesSubplot:xlabel='slope_per', ylabel='slope_per_3900S'>"
      ]
     },
     "execution_count": 9,
     "metadata": {},
     "output_type": "execute_result"
    },
    {
     "data": {
      "image/png": "[encoded data removed]",
      "text/plain": [
       "<Figure size 432x288 with 1 Axes>"
      ]
     },
     "metadata": {
      "needs_background": "light"
     },
     "output_type": "display_data"
    }
   ],
   "source": [
    "link_join_df.plot.scatter(x='slope_per', y='slope_per{}'.format(scenario_name), c='DarkBlue',s=10,marker='+', ylim=[0,50], xlim=[0,50])"
   ]
  },
  {
   "cell_type": "code",
   "execution_count": 10,
   "metadata": {},
   "outputs": [
    {
     "data": {
      "text/plain": [
       "'E:\\\\Projects\\\\utah_bike_demand_model\\\\Post_Process_Bike_Model_Outputs\\\\Outputs\\\\network2.gdb\\\\links_diff'"
      ]
     },
     "execution_count": 10,
     "metadata": {},
     "output_type": "execute_result"
    }
   ],
   "source": [
    "# calculate the diffenrece in volume\n",
    "link_join_df['total_bvol_DIFF'] = link_join_df['total_bvol{}'.format(scenario_name)] - link_join_df['total_bvol']\n",
    "link_join_df.spatial.to_featureclass(location=os.path.join(gdb, 'links_diff'),sanitize_columns=False)"
   ]
  }
 ],
 "metadata": {
  "kernelspec": {
   "display_name": "joshPy3",
   "language": "python",
   "name": "joshpy3"
  },
  "language_info": {
   "codemirror_mode": {
    "name": "ipython",
    "version": 3
   },
   "file_extension": ".py",
   "mimetype": "text/x-python",
   "name": "python",
   "nbconvert_exporter": "python",
   "pygments_lexer": "ipython3",
   "version": "3.7.10"
  },
  "varInspector": {
   "cols": {
    "lenName": 16,
    "lenType": 16,
    "lenVar": 40
   },
   "kernels_config": {
    "python": {
     "delete_cmd_postfix": "",
     "delete_cmd_prefix": "del ",
     "library": "var_list.py",
     "varRefreshCmd": "print(var_dic_list())"
    },
    "r": {
     "delete_cmd_postfix": ") ",
     "delete_cmd_prefix": "rm(",
     "library": "var_list.r",
     "varRefreshCmd": "cat(var_dic_list()) "
    }
   },
   "types_to_exclude": [
    "module",
    "function",
    "builtin_function_or_method",
    "instance",
    "_Feature"
   ],
   "window_display": false
  }
 },
 "nbformat": 4,
 "nbformat_minor": 4
}
